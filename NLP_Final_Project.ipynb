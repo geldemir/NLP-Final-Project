{
  "nbformat": 4,
  "nbformat_minor": 0,
  "metadata": {
    "colab": {
      "provenance": []
    },
    "kernelspec": {
      "name": "python3",
      "display_name": "Python 3"
    },
    "language_info": {
      "name": "python"
    },
    "gpuClass": "standard"
  },
  "cells": [
    {
      "cell_type": "markdown",
      "source": [
        "### Gülşah Eldemir\n",
        "### Mastering Applied Data Science with Deep Learning, December, 2022  \n",
        "\n",
        "\n",
        "  \n",
        "\n",
        "\n",
        "                                                      NLP Project Final Project\n",
        "                          \n",
        "  \n",
        "                                          \"Classifying Amazon reviews based on customer ratings using NLP\" "
      ],
      "metadata": {
        "id": "2IDHuWF65V12"
      }
    },
    {
      "cell_type": "markdown",
      "source": [
        "# LİBRARİES"
      ],
      "metadata": {
        "id": "5OjMq7bM51Vh"
      }
    },
    {
      "cell_type": "code",
      "source": [
        "#!pip install spacy"
      ],
      "metadata": {
        "id": "JlfQr09Y8UbN"
      },
      "execution_count": 1,
      "outputs": []
    },
    {
      "cell_type": "code",
      "source": [
        "#!pip install sklearn\n"
      ],
      "metadata": {
        "id": "BhToT9wR8U06"
      },
      "execution_count": 2,
      "outputs": []
    },
    {
      "cell_type": "code",
      "source": [
        "#!pip install langdetect"
      ],
      "metadata": {
        "id": "2Ltrc23-8U5d"
      },
      "execution_count": 3,
      "outputs": []
    },
    {
      "cell_type": "code",
      "source": [
        "#!pip install textblob"
      ],
      "metadata": {
        "id": "FgNy2QNn8U-W"
      },
      "execution_count": 4,
      "outputs": []
    },
    {
      "cell_type": "code",
      "source": [
        "#!pip install autocorrect"
      ],
      "metadata": {
        "id": "4yGX_VlQ8VFu"
      },
      "execution_count": 5,
      "outputs": []
    },
    {
      "cell_type": "code",
      "source": [
        "#!pip install nltk"
      ],
      "metadata": {
        "id": "SWAlOWn-8VLq"
      },
      "execution_count": 6,
      "outputs": []
    },
    {
      "cell_type": "code",
      "source": [
        "import pandas as pd\n",
        "import matplotlib.pyplot as plt\n",
        "%matplotlib inline\n",
        "import seaborn as sns\n",
        "from textblob import TextBlob\n",
        "import numpy as np\n",
        "import scipy as sp\n",
        "from spacy import displacy\n",
        "import sys\n",
        "#import pycountry\n",
        "from langdetect import detect\n",
        "\n",
        "import warnings\n",
        "warnings.filterwarnings(\"ignore\")\n",
        "\n",
        "from wordcloud import WordCloud, STOPWORDS\n",
        "import os\n",
        "from PIL import Image\n",
        "from autocorrect import spell\n",
        "\n",
        "import nltk\n",
        "from nltk.stem import SnowballStemmer\n",
        "from nltk.sentiment.vader import SentimentIntensityAnalyzer\n",
        "from nltk.tokenize import TreebankWordTokenizer\n",
        "from nltk.stem import PorterStemmer\n",
        "from nltk.stem import LancasterStemmer\n",
        "from nltk.stem import RegexpStemmer\n",
        "from nltk.tokenize import word_tokenize\n",
        "from nltk.tokenize import sent_tokenize\n",
        "from nltk.corpus import stopwords\n",
        "from autocorrect import spell\n",
        "\n",
        "\n",
        "from sklearn.feature_extraction.text import CountVectorizer, TfidfVectorizer\n",
        "from sklearn.linear_model import LogisticRegression\n",
        "from sklearn.model_selection import train_test_split\n",
        "from sklearn.metrics import accuracy_score\n",
        "from sklearn.naive_bayes import MultinomialNB\n",
        "from sklearn.metrics import accuracy_score,confusion_matrix\n"
      ],
      "metadata": {
        "colab": {
          "base_uri": "https://localhost:8080/"
        },
        "id": "V-IHxvAd53VI",
        "outputId": "ae946f1b-87e1-46ad-9881-028dacf2ee5c"
      },
      "execution_count": 7,
      "outputs": [
        {
          "output_type": "stream",
          "name": "stderr",
          "text": [
            "/usr/local/lib/python3.8/dist-packages/torch/cuda/__init__.py:497: UserWarning: Can't initialize NVML\n",
            "  warnings.warn(\"Can't initialize NVML\")\n"
          ]
        }
      ]
    },
    {
      "cell_type": "markdown",
      "source": [
        "## ***Reading Data***"
      ],
      "metadata": {
        "id": "HL1ZErBAIWfk"
      }
    },
    {
      "cell_type": "code",
      "source": [
        "dataset = \"Electronics_5.json\"\n",
        "\n",
        "if os.path.isfile(dataset):\n",
        "    df = pd.read_json(\"Electronics_5.json\", lines=True)\n",
        "else:\n",
        "    url = r\"http://snap.stanford.edu/data/amazon/productGraph/categoryFiles/reviews_Electronics_5.json.gz\"\n",
        "    df = pd.read_json(url, compression='gzip', lines=True)"
      ],
      "metadata": {
        "id": "ZQkbj1DI7Qyl"
      },
      "execution_count": 8,
      "outputs": []
    },
    {
      "cell_type": "code",
      "source": [
        "shuffled=df.sample(frac=1)"
      ],
      "metadata": {
        "id": "fHefRioj98yy"
      },
      "execution_count": 9,
      "outputs": []
    },
    {
      "cell_type": "code",
      "source": [
        "shuffled.tail()"
      ],
      "metadata": {
        "colab": {
          "base_uri": "https://localhost:8080/",
          "height": 337
        },
        "id": "chFLXIvr983I",
        "outputId": "c1db19dd-cbc2-43a9-a03e-d5f85938f7ec"
      },
      "execution_count": 10,
      "outputs": [
        {
          "output_type": "execute_result",
          "data": {
            "text/plain": [
              "             reviewerID        asin                     reviewerName  \\\n",
              "174376   A3TUZOJZM9008Y  B000BNNGUC   Michael A. Brown \"maniacmedia\"   \n",
              "223195   A13ST46D9DMD83  B000HAOVGM             B. Johnson \"Johnson\"   \n",
              "1677078  A17WM3NTCID9DS  B00HFRWWAM      Robert D. Harmon \"bobnbob3\"   \n",
              "1617377  A3112D9P7HXV0E  B00DM5F19A              The real Amazon fan   \n",
              "1617110  A2ZY49IDE6TY5I  B00DLKE8C2  Crabigail Cassidy \"Crabby Abby\"   \n",
              "\n",
              "          helpful                                         reviewText  overall  \\\n",
              "174376   [18, 22]  About two months before Apple released the new...        5   \n",
              "223195     [0, 0]  I'm partial to Canon compact digitals, but I p...        5   \n",
              "1677078    [1, 1]  I installed it on a Windows 7 system and neede...        5   \n",
              "1617377    [6, 6]  I bought this primarily for streaming internet...        5   \n",
              "1617110    [1, 1]  This is a nice mount that attaches effortlessl...        4   \n",
              "\n",
              "                                    summary  unixReviewTime   reviewTime  \n",
              "174376      It's enough to make you scream!      1137888000  01 22, 2006  \n",
              "223195          My favorite compact digital      1244505600   06 9, 2009  \n",
              "1677078               excellent fast backup      1396396800   04 2, 2014  \n",
              "1617377  Absolutely what I was looking for.      1392595200  02 17, 2014  \n",
              "1617110                          Great Idea      1383350400   11 2, 2013  "
            ],
            "text/html": [
              "\n",
              "  <div id=\"df-a55e9240-c283-4a45-a166-ccf0d13898fe\">\n",
              "    <div class=\"colab-df-container\">\n",
              "      <div>\n",
              "<style scoped>\n",
              "    .dataframe tbody tr th:only-of-type {\n",
              "        vertical-align: middle;\n",
              "    }\n",
              "\n",
              "    .dataframe tbody tr th {\n",
              "        vertical-align: top;\n",
              "    }\n",
              "\n",
              "    .dataframe thead th {\n",
              "        text-align: right;\n",
              "    }\n",
              "</style>\n",
              "<table border=\"1\" class=\"dataframe\">\n",
              "  <thead>\n",
              "    <tr style=\"text-align: right;\">\n",
              "      <th></th>\n",
              "      <th>reviewerID</th>\n",
              "      <th>asin</th>\n",
              "      <th>reviewerName</th>\n",
              "      <th>helpful</th>\n",
              "      <th>reviewText</th>\n",
              "      <th>overall</th>\n",
              "      <th>summary</th>\n",
              "      <th>unixReviewTime</th>\n",
              "      <th>reviewTime</th>\n",
              "    </tr>\n",
              "  </thead>\n",
              "  <tbody>\n",
              "    <tr>\n",
              "      <th>174376</th>\n",
              "      <td>A3TUZOJZM9008Y</td>\n",
              "      <td>B000BNNGUC</td>\n",
              "      <td>Michael A. Brown \"maniacmedia\"</td>\n",
              "      <td>[18, 22]</td>\n",
              "      <td>About two months before Apple released the new...</td>\n",
              "      <td>5</td>\n",
              "      <td>It's enough to make you scream!</td>\n",
              "      <td>1137888000</td>\n",
              "      <td>01 22, 2006</td>\n",
              "    </tr>\n",
              "    <tr>\n",
              "      <th>223195</th>\n",
              "      <td>A13ST46D9DMD83</td>\n",
              "      <td>B000HAOVGM</td>\n",
              "      <td>B. Johnson \"Johnson\"</td>\n",
              "      <td>[0, 0]</td>\n",
              "      <td>I'm partial to Canon compact digitals, but I p...</td>\n",
              "      <td>5</td>\n",
              "      <td>My favorite compact digital</td>\n",
              "      <td>1244505600</td>\n",
              "      <td>06 9, 2009</td>\n",
              "    </tr>\n",
              "    <tr>\n",
              "      <th>1677078</th>\n",
              "      <td>A17WM3NTCID9DS</td>\n",
              "      <td>B00HFRWWAM</td>\n",
              "      <td>Robert D. Harmon \"bobnbob3\"</td>\n",
              "      <td>[1, 1]</td>\n",
              "      <td>I installed it on a Windows 7 system and neede...</td>\n",
              "      <td>5</td>\n",
              "      <td>excellent fast backup</td>\n",
              "      <td>1396396800</td>\n",
              "      <td>04 2, 2014</td>\n",
              "    </tr>\n",
              "    <tr>\n",
              "      <th>1617377</th>\n",
              "      <td>A3112D9P7HXV0E</td>\n",
              "      <td>B00DM5F19A</td>\n",
              "      <td>The real Amazon fan</td>\n",
              "      <td>[6, 6]</td>\n",
              "      <td>I bought this primarily for streaming internet...</td>\n",
              "      <td>5</td>\n",
              "      <td>Absolutely what I was looking for.</td>\n",
              "      <td>1392595200</td>\n",
              "      <td>02 17, 2014</td>\n",
              "    </tr>\n",
              "    <tr>\n",
              "      <th>1617110</th>\n",
              "      <td>A2ZY49IDE6TY5I</td>\n",
              "      <td>B00DLKE8C2</td>\n",
              "      <td>Crabigail Cassidy \"Crabby Abby\"</td>\n",
              "      <td>[1, 1]</td>\n",
              "      <td>This is a nice mount that attaches effortlessl...</td>\n",
              "      <td>4</td>\n",
              "      <td>Great Idea</td>\n",
              "      <td>1383350400</td>\n",
              "      <td>11 2, 2013</td>\n",
              "    </tr>\n",
              "  </tbody>\n",
              "</table>\n",
              "</div>\n",
              "      <button class=\"colab-df-convert\" onclick=\"convertToInteractive('df-a55e9240-c283-4a45-a166-ccf0d13898fe')\"\n",
              "              title=\"Convert this dataframe to an interactive table.\"\n",
              "              style=\"display:none;\">\n",
              "        \n",
              "  <svg xmlns=\"http://www.w3.org/2000/svg\" height=\"24px\"viewBox=\"0 0 24 24\"\n",
              "       width=\"24px\">\n",
              "    <path d=\"M0 0h24v24H0V0z\" fill=\"none\"/>\n",
              "    <path d=\"M18.56 5.44l.94 2.06.94-2.06 2.06-.94-2.06-.94-.94-2.06-.94 2.06-2.06.94zm-11 1L8.5 8.5l.94-2.06 2.06-.94-2.06-.94L8.5 2.5l-.94 2.06-2.06.94zm10 10l.94 2.06.94-2.06 2.06-.94-2.06-.94-.94-2.06-.94 2.06-2.06.94z\"/><path d=\"M17.41 7.96l-1.37-1.37c-.4-.4-.92-.59-1.43-.59-.52 0-1.04.2-1.43.59L10.3 9.45l-7.72 7.72c-.78.78-.78 2.05 0 2.83L4 21.41c.39.39.9.59 1.41.59.51 0 1.02-.2 1.41-.59l7.78-7.78 2.81-2.81c.8-.78.8-2.07 0-2.86zM5.41 20L4 18.59l7.72-7.72 1.47 1.35L5.41 20z\"/>\n",
              "  </svg>\n",
              "      </button>\n",
              "      \n",
              "  <style>\n",
              "    .colab-df-container {\n",
              "      display:flex;\n",
              "      flex-wrap:wrap;\n",
              "      gap: 12px;\n",
              "    }\n",
              "\n",
              "    .colab-df-convert {\n",
              "      background-color: #E8F0FE;\n",
              "      border: none;\n",
              "      border-radius: 50%;\n",
              "      cursor: pointer;\n",
              "      display: none;\n",
              "      fill: #1967D2;\n",
              "      height: 32px;\n",
              "      padding: 0 0 0 0;\n",
              "      width: 32px;\n",
              "    }\n",
              "\n",
              "    .colab-df-convert:hover {\n",
              "      background-color: #E2EBFA;\n",
              "      box-shadow: 0px 1px 2px rgba(60, 64, 67, 0.3), 0px 1px 3px 1px rgba(60, 64, 67, 0.15);\n",
              "      fill: #174EA6;\n",
              "    }\n",
              "\n",
              "    [theme=dark] .colab-df-convert {\n",
              "      background-color: #3B4455;\n",
              "      fill: #D2E3FC;\n",
              "    }\n",
              "\n",
              "    [theme=dark] .colab-df-convert:hover {\n",
              "      background-color: #434B5C;\n",
              "      box-shadow: 0px 1px 3px 1px rgba(0, 0, 0, 0.15);\n",
              "      filter: drop-shadow(0px 1px 2px rgba(0, 0, 0, 0.3));\n",
              "      fill: #FFFFFF;\n",
              "    }\n",
              "  </style>\n",
              "\n",
              "      <script>\n",
              "        const buttonEl =\n",
              "          document.querySelector('#df-a55e9240-c283-4a45-a166-ccf0d13898fe button.colab-df-convert');\n",
              "        buttonEl.style.display =\n",
              "          google.colab.kernel.accessAllowed ? 'block' : 'none';\n",
              "\n",
              "        async function convertToInteractive(key) {\n",
              "          const element = document.querySelector('#df-a55e9240-c283-4a45-a166-ccf0d13898fe');\n",
              "          const dataTable =\n",
              "            await google.colab.kernel.invokeFunction('convertToInteractive',\n",
              "                                                     [key], {});\n",
              "          if (!dataTable) return;\n",
              "\n",
              "          const docLinkHtml = 'Like what you see? Visit the ' +\n",
              "            '<a target=\"_blank\" href=https://colab.research.google.com/notebooks/data_table.ipynb>data table notebook</a>'\n",
              "            + ' to learn more about interactive tables.';\n",
              "          element.innerHTML = '';\n",
              "          dataTable['output_type'] = 'display_data';\n",
              "          await google.colab.output.renderOutput(dataTable, element);\n",
              "          const docLink = document.createElement('div');\n",
              "          docLink.innerHTML = docLinkHtml;\n",
              "          element.appendChild(docLink);\n",
              "        }\n",
              "      </script>\n",
              "    </div>\n",
              "  </div>\n",
              "  "
            ]
          },
          "metadata": {},
          "execution_count": 10
        }
      ]
    },
    {
      "cell_type": "markdown",
      "source": [
        "## ***NLP Pre-Processing***"
      ],
      "metadata": {
        "id": "I1GpJnadImIj"
      }
    },
    {
      "cell_type": "code",
      "source": [
        "result=np.array_split(shuffled,5)\n"
      ],
      "metadata": {
        "id": "CSnchMyP987T"
      },
      "execution_count": 11,
      "outputs": []
    },
    {
      "cell_type": "code",
      "source": [
        "df1=result[0].reset_index().drop(\"index\",axis=1)\n",
        "df2=result[1].reset_index().drop(\"index\",axis=1)\n",
        "df3=result[2].reset_index().drop(\"index\",axis=1)\n",
        "df4=result[3].reset_index().drop(\"index\",axis=1)\n",
        "df5=result[4].reset_index().drop(\"index\",axis=1)"
      ],
      "metadata": {
        "id": "NqnpqsWF99Ac"
      },
      "execution_count": 12,
      "outputs": []
    },
    {
      "cell_type": "code",
      "source": [
        "df1.shape"
      ],
      "metadata": {
        "colab": {
          "base_uri": "https://localhost:8080/"
        },
        "id": "ocGbvQKUaudy",
        "outputId": "b403eed2-9d40-4773-cf61-a977541e5dac"
      },
      "execution_count": 13,
      "outputs": [
        {
          "output_type": "execute_result",
          "data": {
            "text/plain": [
              "(337838, 9)"
            ]
          },
          "metadata": {},
          "execution_count": 13
        }
      ]
    },
    {
      "cell_type": "code",
      "source": [
        "df1.head()"
      ],
      "metadata": {
        "colab": {
          "base_uri": "https://localhost:8080/",
          "height": 337
        },
        "id": "GRfotD_K99FA",
        "outputId": "c30d5a4b-b8b5-41cf-99fa-aed2ce98249d"
      },
      "execution_count": 14,
      "outputs": [
        {
          "output_type": "execute_result",
          "data": {
            "text/plain": [
              "       reviewerID        asin                        reviewerName helpful  \\\n",
              "0  A2IVF4BCLAVQN2  B0019EHU8G  Mary \"I always tell it truthfully\"  [0, 0]   \n",
              "1  A3G3D54ZM8F8EQ  B0094NY3R0                              Chatty  [0, 1]   \n",
              "2  A1JOT17LXXAPMI  B008ABOJKS                                E.L.  [5, 6]   \n",
              "3  A24YW9YH3GWDM4  B004E2Z88O                              FGS762  [0, 0]   \n",
              "4  A2V2JW4VMDFA0C  B006GWO5WK                                 NaN  [0, 0]   \n",
              "\n",
              "                                          reviewText  overall  \\\n",
              "0  I bought this cable thinking it was just a cab...        5   \n",
              "1  Funny thing is the guy I talked with about thi...        5   \n",
              "2  UPDATE: 3/20/2014 -- Recent firmware seems to ...        3   \n",
              "3  The snap on holster/backplate protector sold e...        2   \n",
              "4  I purchased this charger for my Kindle Fire HD...        1   \n",
              "\n",
              "                                  summary  unixReviewTime   reviewTime  \n",
              "0                                 Awesome      1356480000  12 26, 2012  \n",
              "1                                 Awesome      1382832000  10 27, 2013  \n",
              "2  Good router, except for one MAJOR flaw      1367971200   05 8, 2013  \n",
              "3     Not compatible with case protection      1325635200   01 4, 2012  \n",
              "4                 Charger seems dangerous      1360195200   02 7, 2013  "
            ],
            "text/html": [
              "\n",
              "  <div id=\"df-166e5326-b071-46f8-ac98-714aa03247a6\">\n",
              "    <div class=\"colab-df-container\">\n",
              "      <div>\n",
              "<style scoped>\n",
              "    .dataframe tbody tr th:only-of-type {\n",
              "        vertical-align: middle;\n",
              "    }\n",
              "\n",
              "    .dataframe tbody tr th {\n",
              "        vertical-align: top;\n",
              "    }\n",
              "\n",
              "    .dataframe thead th {\n",
              "        text-align: right;\n",
              "    }\n",
              "</style>\n",
              "<table border=\"1\" class=\"dataframe\">\n",
              "  <thead>\n",
              "    <tr style=\"text-align: right;\">\n",
              "      <th></th>\n",
              "      <th>reviewerID</th>\n",
              "      <th>asin</th>\n",
              "      <th>reviewerName</th>\n",
              "      <th>helpful</th>\n",
              "      <th>reviewText</th>\n",
              "      <th>overall</th>\n",
              "      <th>summary</th>\n",
              "      <th>unixReviewTime</th>\n",
              "      <th>reviewTime</th>\n",
              "    </tr>\n",
              "  </thead>\n",
              "  <tbody>\n",
              "    <tr>\n",
              "      <th>0</th>\n",
              "      <td>A2IVF4BCLAVQN2</td>\n",
              "      <td>B0019EHU8G</td>\n",
              "      <td>Mary \"I always tell it truthfully\"</td>\n",
              "      <td>[0, 0]</td>\n",
              "      <td>I bought this cable thinking it was just a cab...</td>\n",
              "      <td>5</td>\n",
              "      <td>Awesome</td>\n",
              "      <td>1356480000</td>\n",
              "      <td>12 26, 2012</td>\n",
              "    </tr>\n",
              "    <tr>\n",
              "      <th>1</th>\n",
              "      <td>A3G3D54ZM8F8EQ</td>\n",
              "      <td>B0094NY3R0</td>\n",
              "      <td>Chatty</td>\n",
              "      <td>[0, 1]</td>\n",
              "      <td>Funny thing is the guy I talked with about thi...</td>\n",
              "      <td>5</td>\n",
              "      <td>Awesome</td>\n",
              "      <td>1382832000</td>\n",
              "      <td>10 27, 2013</td>\n",
              "    </tr>\n",
              "    <tr>\n",
              "      <th>2</th>\n",
              "      <td>A1JOT17LXXAPMI</td>\n",
              "      <td>B008ABOJKS</td>\n",
              "      <td>E.L.</td>\n",
              "      <td>[5, 6]</td>\n",
              "      <td>UPDATE: 3/20/2014 -- Recent firmware seems to ...</td>\n",
              "      <td>3</td>\n",
              "      <td>Good router, except for one MAJOR flaw</td>\n",
              "      <td>1367971200</td>\n",
              "      <td>05 8, 2013</td>\n",
              "    </tr>\n",
              "    <tr>\n",
              "      <th>3</th>\n",
              "      <td>A24YW9YH3GWDM4</td>\n",
              "      <td>B004E2Z88O</td>\n",
              "      <td>FGS762</td>\n",
              "      <td>[0, 0]</td>\n",
              "      <td>The snap on holster/backplate protector sold e...</td>\n",
              "      <td>2</td>\n",
              "      <td>Not compatible with case protection</td>\n",
              "      <td>1325635200</td>\n",
              "      <td>01 4, 2012</td>\n",
              "    </tr>\n",
              "    <tr>\n",
              "      <th>4</th>\n",
              "      <td>A2V2JW4VMDFA0C</td>\n",
              "      <td>B006GWO5WK</td>\n",
              "      <td>NaN</td>\n",
              "      <td>[0, 0]</td>\n",
              "      <td>I purchased this charger for my Kindle Fire HD...</td>\n",
              "      <td>1</td>\n",
              "      <td>Charger seems dangerous</td>\n",
              "      <td>1360195200</td>\n",
              "      <td>02 7, 2013</td>\n",
              "    </tr>\n",
              "  </tbody>\n",
              "</table>\n",
              "</div>\n",
              "      <button class=\"colab-df-convert\" onclick=\"convertToInteractive('df-166e5326-b071-46f8-ac98-714aa03247a6')\"\n",
              "              title=\"Convert this dataframe to an interactive table.\"\n",
              "              style=\"display:none;\">\n",
              "        \n",
              "  <svg xmlns=\"http://www.w3.org/2000/svg\" height=\"24px\"viewBox=\"0 0 24 24\"\n",
              "       width=\"24px\">\n",
              "    <path d=\"M0 0h24v24H0V0z\" fill=\"none\"/>\n",
              "    <path d=\"M18.56 5.44l.94 2.06.94-2.06 2.06-.94-2.06-.94-.94-2.06-.94 2.06-2.06.94zm-11 1L8.5 8.5l.94-2.06 2.06-.94-2.06-.94L8.5 2.5l-.94 2.06-2.06.94zm10 10l.94 2.06.94-2.06 2.06-.94-2.06-.94-.94-2.06-.94 2.06-2.06.94z\"/><path d=\"M17.41 7.96l-1.37-1.37c-.4-.4-.92-.59-1.43-.59-.52 0-1.04.2-1.43.59L10.3 9.45l-7.72 7.72c-.78.78-.78 2.05 0 2.83L4 21.41c.39.39.9.59 1.41.59.51 0 1.02-.2 1.41-.59l7.78-7.78 2.81-2.81c.8-.78.8-2.07 0-2.86zM5.41 20L4 18.59l7.72-7.72 1.47 1.35L5.41 20z\"/>\n",
              "  </svg>\n",
              "      </button>\n",
              "      \n",
              "  <style>\n",
              "    .colab-df-container {\n",
              "      display:flex;\n",
              "      flex-wrap:wrap;\n",
              "      gap: 12px;\n",
              "    }\n",
              "\n",
              "    .colab-df-convert {\n",
              "      background-color: #E8F0FE;\n",
              "      border: none;\n",
              "      border-radius: 50%;\n",
              "      cursor: pointer;\n",
              "      display: none;\n",
              "      fill: #1967D2;\n",
              "      height: 32px;\n",
              "      padding: 0 0 0 0;\n",
              "      width: 32px;\n",
              "    }\n",
              "\n",
              "    .colab-df-convert:hover {\n",
              "      background-color: #E2EBFA;\n",
              "      box-shadow: 0px 1px 2px rgba(60, 64, 67, 0.3), 0px 1px 3px 1px rgba(60, 64, 67, 0.15);\n",
              "      fill: #174EA6;\n",
              "    }\n",
              "\n",
              "    [theme=dark] .colab-df-convert {\n",
              "      background-color: #3B4455;\n",
              "      fill: #D2E3FC;\n",
              "    }\n",
              "\n",
              "    [theme=dark] .colab-df-convert:hover {\n",
              "      background-color: #434B5C;\n",
              "      box-shadow: 0px 1px 3px 1px rgba(0, 0, 0, 0.15);\n",
              "      filter: drop-shadow(0px 1px 2px rgba(0, 0, 0, 0.3));\n",
              "      fill: #FFFFFF;\n",
              "    }\n",
              "  </style>\n",
              "\n",
              "      <script>\n",
              "        const buttonEl =\n",
              "          document.querySelector('#df-166e5326-b071-46f8-ac98-714aa03247a6 button.colab-df-convert');\n",
              "        buttonEl.style.display =\n",
              "          google.colab.kernel.accessAllowed ? 'block' : 'none';\n",
              "\n",
              "        async function convertToInteractive(key) {\n",
              "          const element = document.querySelector('#df-166e5326-b071-46f8-ac98-714aa03247a6');\n",
              "          const dataTable =\n",
              "            await google.colab.kernel.invokeFunction('convertToInteractive',\n",
              "                                                     [key], {});\n",
              "          if (!dataTable) return;\n",
              "\n",
              "          const docLinkHtml = 'Like what you see? Visit the ' +\n",
              "            '<a target=\"_blank\" href=https://colab.research.google.com/notebooks/data_table.ipynb>data table notebook</a>'\n",
              "            + ' to learn more about interactive tables.';\n",
              "          element.innerHTML = '';\n",
              "          dataTable['output_type'] = 'display_data';\n",
              "          await google.colab.output.renderOutput(dataTable, element);\n",
              "          const docLink = document.createElement('div');\n",
              "          docLink.innerHTML = docLinkHtml;\n",
              "          element.appendChild(docLink);\n",
              "        }\n",
              "      </script>\n",
              "    </div>\n",
              "  </div>\n",
              "  "
            ]
          },
          "metadata": {},
          "execution_count": 14
        }
      ]
    },
    {
      "cell_type": "code",
      "source": [
        "df1.tail()"
      ],
      "metadata": {
        "colab": {
          "base_uri": "https://localhost:8080/",
          "height": 337
        },
        "id": "w64AC6II-zR0",
        "outputId": "ea0a5cf9-82b0-4153-f3fb-bcf6605643ba"
      },
      "execution_count": 15,
      "outputs": [
        {
          "output_type": "execute_result",
          "data": {
            "text/plain": [
              "            reviewerID        asin                reviewerName helpful  \\\n",
              "337833  A1X3GSQ1ZM4UEQ  B0000AQR8F  oldyeller \"Joseph Simpson\"  [0, 0]   \n",
              "337834  A211QYKZXHBY2K  B004071ZX0                  Patrick E.  [0, 0]   \n",
              "337835  A1U5IJHJK84S54  B009DCNP9O           Daniel A. Koblosh  [0, 0]   \n",
              "337836  A3O3AUXLXV8GG2  B00006JN3G                       Razor  [0, 0]   \n",
              "337837   AKRNC1Q6D8JR0  B003964HXS                Golfing Fool  [0, 0]   \n",
              "\n",
              "                                               reviewText  overall  \\\n",
              "337833  I bought 3 of these switches to interconnect m...        5   \n",
              "337834  I connected this to the DisplayPort output on ...        5   \n",
              "337835  Replaces the outlet cover of a standard duplex...        4   \n",
              "337836  It uses some sort of carbon powder to clean th...        5   \n",
              "337837  I actually gave a way a mini (but not micro) 5...        5   \n",
              "\n",
              "                                       summary  unixReviewTime   reviewTime  \n",
              "337833            These VGA switches are great      1347408000  09 12, 2012  \n",
              "337834                         Works perfectly      1384041600  11 10, 2013  \n",
              "337835  Good, But More Features Than Necessary      1369353600  05 24, 2013  \n",
              "337836                                Amazing!      1353974400  11 27, 2012  \n",
              "337837                It is just what I wanted      1316736000  09 23, 2011  "
            ],
            "text/html": [
              "\n",
              "  <div id=\"df-628215a4-54c3-4ef1-8860-6d5fff219128\">\n",
              "    <div class=\"colab-df-container\">\n",
              "      <div>\n",
              "<style scoped>\n",
              "    .dataframe tbody tr th:only-of-type {\n",
              "        vertical-align: middle;\n",
              "    }\n",
              "\n",
              "    .dataframe tbody tr th {\n",
              "        vertical-align: top;\n",
              "    }\n",
              "\n",
              "    .dataframe thead th {\n",
              "        text-align: right;\n",
              "    }\n",
              "</style>\n",
              "<table border=\"1\" class=\"dataframe\">\n",
              "  <thead>\n",
              "    <tr style=\"text-align: right;\">\n",
              "      <th></th>\n",
              "      <th>reviewerID</th>\n",
              "      <th>asin</th>\n",
              "      <th>reviewerName</th>\n",
              "      <th>helpful</th>\n",
              "      <th>reviewText</th>\n",
              "      <th>overall</th>\n",
              "      <th>summary</th>\n",
              "      <th>unixReviewTime</th>\n",
              "      <th>reviewTime</th>\n",
              "    </tr>\n",
              "  </thead>\n",
              "  <tbody>\n",
              "    <tr>\n",
              "      <th>337833</th>\n",
              "      <td>A1X3GSQ1ZM4UEQ</td>\n",
              "      <td>B0000AQR8F</td>\n",
              "      <td>oldyeller \"Joseph Simpson\"</td>\n",
              "      <td>[0, 0]</td>\n",
              "      <td>I bought 3 of these switches to interconnect m...</td>\n",
              "      <td>5</td>\n",
              "      <td>These VGA switches are great</td>\n",
              "      <td>1347408000</td>\n",
              "      <td>09 12, 2012</td>\n",
              "    </tr>\n",
              "    <tr>\n",
              "      <th>337834</th>\n",
              "      <td>A211QYKZXHBY2K</td>\n",
              "      <td>B004071ZX0</td>\n",
              "      <td>Patrick E.</td>\n",
              "      <td>[0, 0]</td>\n",
              "      <td>I connected this to the DisplayPort output on ...</td>\n",
              "      <td>5</td>\n",
              "      <td>Works perfectly</td>\n",
              "      <td>1384041600</td>\n",
              "      <td>11 10, 2013</td>\n",
              "    </tr>\n",
              "    <tr>\n",
              "      <th>337835</th>\n",
              "      <td>A1U5IJHJK84S54</td>\n",
              "      <td>B009DCNP9O</td>\n",
              "      <td>Daniel A. Koblosh</td>\n",
              "      <td>[0, 0]</td>\n",
              "      <td>Replaces the outlet cover of a standard duplex...</td>\n",
              "      <td>4</td>\n",
              "      <td>Good, But More Features Than Necessary</td>\n",
              "      <td>1369353600</td>\n",
              "      <td>05 24, 2013</td>\n",
              "    </tr>\n",
              "    <tr>\n",
              "      <th>337836</th>\n",
              "      <td>A3O3AUXLXV8GG2</td>\n",
              "      <td>B00006JN3G</td>\n",
              "      <td>Razor</td>\n",
              "      <td>[0, 0]</td>\n",
              "      <td>It uses some sort of carbon powder to clean th...</td>\n",
              "      <td>5</td>\n",
              "      <td>Amazing!</td>\n",
              "      <td>1353974400</td>\n",
              "      <td>11 27, 2012</td>\n",
              "    </tr>\n",
              "    <tr>\n",
              "      <th>337837</th>\n",
              "      <td>AKRNC1Q6D8JR0</td>\n",
              "      <td>B003964HXS</td>\n",
              "      <td>Golfing Fool</td>\n",
              "      <td>[0, 0]</td>\n",
              "      <td>I actually gave a way a mini (but not micro) 5...</td>\n",
              "      <td>5</td>\n",
              "      <td>It is just what I wanted</td>\n",
              "      <td>1316736000</td>\n",
              "      <td>09 23, 2011</td>\n",
              "    </tr>\n",
              "  </tbody>\n",
              "</table>\n",
              "</div>\n",
              "      <button class=\"colab-df-convert\" onclick=\"convertToInteractive('df-628215a4-54c3-4ef1-8860-6d5fff219128')\"\n",
              "              title=\"Convert this dataframe to an interactive table.\"\n",
              "              style=\"display:none;\">\n",
              "        \n",
              "  <svg xmlns=\"http://www.w3.org/2000/svg\" height=\"24px\"viewBox=\"0 0 24 24\"\n",
              "       width=\"24px\">\n",
              "    <path d=\"M0 0h24v24H0V0z\" fill=\"none\"/>\n",
              "    <path d=\"M18.56 5.44l.94 2.06.94-2.06 2.06-.94-2.06-.94-.94-2.06-.94 2.06-2.06.94zm-11 1L8.5 8.5l.94-2.06 2.06-.94-2.06-.94L8.5 2.5l-.94 2.06-2.06.94zm10 10l.94 2.06.94-2.06 2.06-.94-2.06-.94-.94-2.06-.94 2.06-2.06.94z\"/><path d=\"M17.41 7.96l-1.37-1.37c-.4-.4-.92-.59-1.43-.59-.52 0-1.04.2-1.43.59L10.3 9.45l-7.72 7.72c-.78.78-.78 2.05 0 2.83L4 21.41c.39.39.9.59 1.41.59.51 0 1.02-.2 1.41-.59l7.78-7.78 2.81-2.81c.8-.78.8-2.07 0-2.86zM5.41 20L4 18.59l7.72-7.72 1.47 1.35L5.41 20z\"/>\n",
              "  </svg>\n",
              "      </button>\n",
              "      \n",
              "  <style>\n",
              "    .colab-df-container {\n",
              "      display:flex;\n",
              "      flex-wrap:wrap;\n",
              "      gap: 12px;\n",
              "    }\n",
              "\n",
              "    .colab-df-convert {\n",
              "      background-color: #E8F0FE;\n",
              "      border: none;\n",
              "      border-radius: 50%;\n",
              "      cursor: pointer;\n",
              "      display: none;\n",
              "      fill: #1967D2;\n",
              "      height: 32px;\n",
              "      padding: 0 0 0 0;\n",
              "      width: 32px;\n",
              "    }\n",
              "\n",
              "    .colab-df-convert:hover {\n",
              "      background-color: #E2EBFA;\n",
              "      box-shadow: 0px 1px 2px rgba(60, 64, 67, 0.3), 0px 1px 3px 1px rgba(60, 64, 67, 0.15);\n",
              "      fill: #174EA6;\n",
              "    }\n",
              "\n",
              "    [theme=dark] .colab-df-convert {\n",
              "      background-color: #3B4455;\n",
              "      fill: #D2E3FC;\n",
              "    }\n",
              "\n",
              "    [theme=dark] .colab-df-convert:hover {\n",
              "      background-color: #434B5C;\n",
              "      box-shadow: 0px 1px 3px 1px rgba(0, 0, 0, 0.15);\n",
              "      filter: drop-shadow(0px 1px 2px rgba(0, 0, 0, 0.3));\n",
              "      fill: #FFFFFF;\n",
              "    }\n",
              "  </style>\n",
              "\n",
              "      <script>\n",
              "        const buttonEl =\n",
              "          document.querySelector('#df-628215a4-54c3-4ef1-8860-6d5fff219128 button.colab-df-convert');\n",
              "        buttonEl.style.display =\n",
              "          google.colab.kernel.accessAllowed ? 'block' : 'none';\n",
              "\n",
              "        async function convertToInteractive(key) {\n",
              "          const element = document.querySelector('#df-628215a4-54c3-4ef1-8860-6d5fff219128');\n",
              "          const dataTable =\n",
              "            await google.colab.kernel.invokeFunction('convertToInteractive',\n",
              "                                                     [key], {});\n",
              "          if (!dataTable) return;\n",
              "\n",
              "          const docLinkHtml = 'Like what you see? Visit the ' +\n",
              "            '<a target=\"_blank\" href=https://colab.research.google.com/notebooks/data_table.ipynb>data table notebook</a>'\n",
              "            + ' to learn more about interactive tables.';\n",
              "          element.innerHTML = '';\n",
              "          dataTable['output_type'] = 'display_data';\n",
              "          await google.colab.output.renderOutput(dataTable, element);\n",
              "          const docLink = document.createElement('div');\n",
              "          docLink.innerHTML = docLinkHtml;\n",
              "          element.appendChild(docLink);\n",
              "        }\n",
              "      </script>\n",
              "    </div>\n",
              "  </div>\n",
              "  "
            ]
          },
          "metadata": {},
          "execution_count": 15
        }
      ]
    },
    {
      "cell_type": "code",
      "source": [
        "df1.shape"
      ],
      "metadata": {
        "colab": {
          "base_uri": "https://localhost:8080/"
        },
        "id": "D547RES599JN",
        "outputId": "821d819b-3999-4cae-ed90-3c9e1cdaab7d"
      },
      "execution_count": 16,
      "outputs": [
        {
          "output_type": "execute_result",
          "data": {
            "text/plain": [
              "(337838, 9)"
            ]
          },
          "metadata": {},
          "execution_count": 16
        }
      ]
    },
    {
      "cell_type": "code",
      "source": [
        "df1.columns\n"
      ],
      "metadata": {
        "colab": {
          "base_uri": "https://localhost:8080/"
        },
        "id": "Kj9RzVy_99Nj",
        "outputId": "e353e570-e1ca-41e9-d7bd-b212c0a9727e"
      },
      "execution_count": 17,
      "outputs": [
        {
          "output_type": "execute_result",
          "data": {
            "text/plain": [
              "Index(['reviewerID', 'asin', 'reviewerName', 'helpful', 'reviewText',\n",
              "       'overall', 'summary', 'unixReviewTime', 'reviewTime'],\n",
              "      dtype='object')"
            ]
          },
          "metadata": {},
          "execution_count": 17
        }
      ]
    },
    {
      "cell_type": "markdown",
      "source": [],
      "metadata": {
        "id": "NM3HBINt_TvK"
      }
    },
    {
      "cell_type": "code",
      "source": [
        "df1.describe()"
      ],
      "metadata": {
        "colab": {
          "base_uri": "https://localhost:8080/",
          "height": 300
        },
        "id": "UgwjuHJB99Si",
        "outputId": "4f83db23-8c97-4cad-a6ac-9aa5382b75dd"
      },
      "execution_count": 18,
      "outputs": [
        {
          "output_type": "execute_result",
          "data": {
            "text/plain": [
              "             overall  unixReviewTime\n",
              "count  337838.000000    3.378380e+05\n",
              "mean        4.224839    1.340535e+09\n",
              "std         1.183990    6.352624e+07\n",
              "min         1.000000    9.292320e+08\n",
              "25%         4.000000    1.317946e+09\n",
              "50%         5.000000    1.360800e+09\n",
              "75%         5.000000    1.385078e+09\n",
              "max         5.000000    1.406074e+09"
            ],
            "text/html": [
              "\n",
              "  <div id=\"df-5cfbfa24-537f-4f6b-89f2-4863648760cf\">\n",
              "    <div class=\"colab-df-container\">\n",
              "      <div>\n",
              "<style scoped>\n",
              "    .dataframe tbody tr th:only-of-type {\n",
              "        vertical-align: middle;\n",
              "    }\n",
              "\n",
              "    .dataframe tbody tr th {\n",
              "        vertical-align: top;\n",
              "    }\n",
              "\n",
              "    .dataframe thead th {\n",
              "        text-align: right;\n",
              "    }\n",
              "</style>\n",
              "<table border=\"1\" class=\"dataframe\">\n",
              "  <thead>\n",
              "    <tr style=\"text-align: right;\">\n",
              "      <th></th>\n",
              "      <th>overall</th>\n",
              "      <th>unixReviewTime</th>\n",
              "    </tr>\n",
              "  </thead>\n",
              "  <tbody>\n",
              "    <tr>\n",
              "      <th>count</th>\n",
              "      <td>337838.000000</td>\n",
              "      <td>3.378380e+05</td>\n",
              "    </tr>\n",
              "    <tr>\n",
              "      <th>mean</th>\n",
              "      <td>4.224839</td>\n",
              "      <td>1.340535e+09</td>\n",
              "    </tr>\n",
              "    <tr>\n",
              "      <th>std</th>\n",
              "      <td>1.183990</td>\n",
              "      <td>6.352624e+07</td>\n",
              "    </tr>\n",
              "    <tr>\n",
              "      <th>min</th>\n",
              "      <td>1.000000</td>\n",
              "      <td>9.292320e+08</td>\n",
              "    </tr>\n",
              "    <tr>\n",
              "      <th>25%</th>\n",
              "      <td>4.000000</td>\n",
              "      <td>1.317946e+09</td>\n",
              "    </tr>\n",
              "    <tr>\n",
              "      <th>50%</th>\n",
              "      <td>5.000000</td>\n",
              "      <td>1.360800e+09</td>\n",
              "    </tr>\n",
              "    <tr>\n",
              "      <th>75%</th>\n",
              "      <td>5.000000</td>\n",
              "      <td>1.385078e+09</td>\n",
              "    </tr>\n",
              "    <tr>\n",
              "      <th>max</th>\n",
              "      <td>5.000000</td>\n",
              "      <td>1.406074e+09</td>\n",
              "    </tr>\n",
              "  </tbody>\n",
              "</table>\n",
              "</div>\n",
              "      <button class=\"colab-df-convert\" onclick=\"convertToInteractive('df-5cfbfa24-537f-4f6b-89f2-4863648760cf')\"\n",
              "              title=\"Convert this dataframe to an interactive table.\"\n",
              "              style=\"display:none;\">\n",
              "        \n",
              "  <svg xmlns=\"http://www.w3.org/2000/svg\" height=\"24px\"viewBox=\"0 0 24 24\"\n",
              "       width=\"24px\">\n",
              "    <path d=\"M0 0h24v24H0V0z\" fill=\"none\"/>\n",
              "    <path d=\"M18.56 5.44l.94 2.06.94-2.06 2.06-.94-2.06-.94-.94-2.06-.94 2.06-2.06.94zm-11 1L8.5 8.5l.94-2.06 2.06-.94-2.06-.94L8.5 2.5l-.94 2.06-2.06.94zm10 10l.94 2.06.94-2.06 2.06-.94-2.06-.94-.94-2.06-.94 2.06-2.06.94z\"/><path d=\"M17.41 7.96l-1.37-1.37c-.4-.4-.92-.59-1.43-.59-.52 0-1.04.2-1.43.59L10.3 9.45l-7.72 7.72c-.78.78-.78 2.05 0 2.83L4 21.41c.39.39.9.59 1.41.59.51 0 1.02-.2 1.41-.59l7.78-7.78 2.81-2.81c.8-.78.8-2.07 0-2.86zM5.41 20L4 18.59l7.72-7.72 1.47 1.35L5.41 20z\"/>\n",
              "  </svg>\n",
              "      </button>\n",
              "      \n",
              "  <style>\n",
              "    .colab-df-container {\n",
              "      display:flex;\n",
              "      flex-wrap:wrap;\n",
              "      gap: 12px;\n",
              "    }\n",
              "\n",
              "    .colab-df-convert {\n",
              "      background-color: #E8F0FE;\n",
              "      border: none;\n",
              "      border-radius: 50%;\n",
              "      cursor: pointer;\n",
              "      display: none;\n",
              "      fill: #1967D2;\n",
              "      height: 32px;\n",
              "      padding: 0 0 0 0;\n",
              "      width: 32px;\n",
              "    }\n",
              "\n",
              "    .colab-df-convert:hover {\n",
              "      background-color: #E2EBFA;\n",
              "      box-shadow: 0px 1px 2px rgba(60, 64, 67, 0.3), 0px 1px 3px 1px rgba(60, 64, 67, 0.15);\n",
              "      fill: #174EA6;\n",
              "    }\n",
              "\n",
              "    [theme=dark] .colab-df-convert {\n",
              "      background-color: #3B4455;\n",
              "      fill: #D2E3FC;\n",
              "    }\n",
              "\n",
              "    [theme=dark] .colab-df-convert:hover {\n",
              "      background-color: #434B5C;\n",
              "      box-shadow: 0px 1px 3px 1px rgba(0, 0, 0, 0.15);\n",
              "      filter: drop-shadow(0px 1px 2px rgba(0, 0, 0, 0.3));\n",
              "      fill: #FFFFFF;\n",
              "    }\n",
              "  </style>\n",
              "\n",
              "      <script>\n",
              "        const buttonEl =\n",
              "          document.querySelector('#df-5cfbfa24-537f-4f6b-89f2-4863648760cf button.colab-df-convert');\n",
              "        buttonEl.style.display =\n",
              "          google.colab.kernel.accessAllowed ? 'block' : 'none';\n",
              "\n",
              "        async function convertToInteractive(key) {\n",
              "          const element = document.querySelector('#df-5cfbfa24-537f-4f6b-89f2-4863648760cf');\n",
              "          const dataTable =\n",
              "            await google.colab.kernel.invokeFunction('convertToInteractive',\n",
              "                                                     [key], {});\n",
              "          if (!dataTable) return;\n",
              "\n",
              "          const docLinkHtml = 'Like what you see? Visit the ' +\n",
              "            '<a target=\"_blank\" href=https://colab.research.google.com/notebooks/data_table.ipynb>data table notebook</a>'\n",
              "            + ' to learn more about interactive tables.';\n",
              "          element.innerHTML = '';\n",
              "          dataTable['output_type'] = 'display_data';\n",
              "          await google.colab.output.renderOutput(dataTable, element);\n",
              "          const docLink = document.createElement('div');\n",
              "          docLink.innerHTML = docLinkHtml;\n",
              "          element.appendChild(docLink);\n",
              "        }\n",
              "      </script>\n",
              "    </div>\n",
              "  </div>\n",
              "  "
            ]
          },
          "metadata": {},
          "execution_count": 18
        }
      ]
    },
    {
      "cell_type": "markdown",
      "source": [],
      "metadata": {
        "id": "fayrwzaw86v3"
      }
    },
    {
      "cell_type": "code",
      "source": [
        "df1.corr()"
      ],
      "metadata": {
        "colab": {
          "base_uri": "https://localhost:8080/",
          "height": 112
        },
        "id": "GQglDguu-2yX",
        "outputId": "7540a148-2d5e-4b14-8f51-761622264429"
      },
      "execution_count": 19,
      "outputs": [
        {
          "output_type": "execute_result",
          "data": {
            "text/plain": [
              "                 overall  unixReviewTime\n",
              "overall         1.000000        0.058182\n",
              "unixReviewTime  0.058182        1.000000"
            ],
            "text/html": [
              "\n",
              "  <div id=\"df-e835c293-3e31-4015-a884-465f997a4180\">\n",
              "    <div class=\"colab-df-container\">\n",
              "      <div>\n",
              "<style scoped>\n",
              "    .dataframe tbody tr th:only-of-type {\n",
              "        vertical-align: middle;\n",
              "    }\n",
              "\n",
              "    .dataframe tbody tr th {\n",
              "        vertical-align: top;\n",
              "    }\n",
              "\n",
              "    .dataframe thead th {\n",
              "        text-align: right;\n",
              "    }\n",
              "</style>\n",
              "<table border=\"1\" class=\"dataframe\">\n",
              "  <thead>\n",
              "    <tr style=\"text-align: right;\">\n",
              "      <th></th>\n",
              "      <th>overall</th>\n",
              "      <th>unixReviewTime</th>\n",
              "    </tr>\n",
              "  </thead>\n",
              "  <tbody>\n",
              "    <tr>\n",
              "      <th>overall</th>\n",
              "      <td>1.000000</td>\n",
              "      <td>0.058182</td>\n",
              "    </tr>\n",
              "    <tr>\n",
              "      <th>unixReviewTime</th>\n",
              "      <td>0.058182</td>\n",
              "      <td>1.000000</td>\n",
              "    </tr>\n",
              "  </tbody>\n",
              "</table>\n",
              "</div>\n",
              "      <button class=\"colab-df-convert\" onclick=\"convertToInteractive('df-e835c293-3e31-4015-a884-465f997a4180')\"\n",
              "              title=\"Convert this dataframe to an interactive table.\"\n",
              "              style=\"display:none;\">\n",
              "        \n",
              "  <svg xmlns=\"http://www.w3.org/2000/svg\" height=\"24px\"viewBox=\"0 0 24 24\"\n",
              "       width=\"24px\">\n",
              "    <path d=\"M0 0h24v24H0V0z\" fill=\"none\"/>\n",
              "    <path d=\"M18.56 5.44l.94 2.06.94-2.06 2.06-.94-2.06-.94-.94-2.06-.94 2.06-2.06.94zm-11 1L8.5 8.5l.94-2.06 2.06-.94-2.06-.94L8.5 2.5l-.94 2.06-2.06.94zm10 10l.94 2.06.94-2.06 2.06-.94-2.06-.94-.94-2.06-.94 2.06-2.06.94z\"/><path d=\"M17.41 7.96l-1.37-1.37c-.4-.4-.92-.59-1.43-.59-.52 0-1.04.2-1.43.59L10.3 9.45l-7.72 7.72c-.78.78-.78 2.05 0 2.83L4 21.41c.39.39.9.59 1.41.59.51 0 1.02-.2 1.41-.59l7.78-7.78 2.81-2.81c.8-.78.8-2.07 0-2.86zM5.41 20L4 18.59l7.72-7.72 1.47 1.35L5.41 20z\"/>\n",
              "  </svg>\n",
              "      </button>\n",
              "      \n",
              "  <style>\n",
              "    .colab-df-container {\n",
              "      display:flex;\n",
              "      flex-wrap:wrap;\n",
              "      gap: 12px;\n",
              "    }\n",
              "\n",
              "    .colab-df-convert {\n",
              "      background-color: #E8F0FE;\n",
              "      border: none;\n",
              "      border-radius: 50%;\n",
              "      cursor: pointer;\n",
              "      display: none;\n",
              "      fill: #1967D2;\n",
              "      height: 32px;\n",
              "      padding: 0 0 0 0;\n",
              "      width: 32px;\n",
              "    }\n",
              "\n",
              "    .colab-df-convert:hover {\n",
              "      background-color: #E2EBFA;\n",
              "      box-shadow: 0px 1px 2px rgba(60, 64, 67, 0.3), 0px 1px 3px 1px rgba(60, 64, 67, 0.15);\n",
              "      fill: #174EA6;\n",
              "    }\n",
              "\n",
              "    [theme=dark] .colab-df-convert {\n",
              "      background-color: #3B4455;\n",
              "      fill: #D2E3FC;\n",
              "    }\n",
              "\n",
              "    [theme=dark] .colab-df-convert:hover {\n",
              "      background-color: #434B5C;\n",
              "      box-shadow: 0px 1px 3px 1px rgba(0, 0, 0, 0.15);\n",
              "      filter: drop-shadow(0px 1px 2px rgba(0, 0, 0, 0.3));\n",
              "      fill: #FFFFFF;\n",
              "    }\n",
              "  </style>\n",
              "\n",
              "      <script>\n",
              "        const buttonEl =\n",
              "          document.querySelector('#df-e835c293-3e31-4015-a884-465f997a4180 button.colab-df-convert');\n",
              "        buttonEl.style.display =\n",
              "          google.colab.kernel.accessAllowed ? 'block' : 'none';\n",
              "\n",
              "        async function convertToInteractive(key) {\n",
              "          const element = document.querySelector('#df-e835c293-3e31-4015-a884-465f997a4180');\n",
              "          const dataTable =\n",
              "            await google.colab.kernel.invokeFunction('convertToInteractive',\n",
              "                                                     [key], {});\n",
              "          if (!dataTable) return;\n",
              "\n",
              "          const docLinkHtml = 'Like what you see? Visit the ' +\n",
              "            '<a target=\"_blank\" href=https://colab.research.google.com/notebooks/data_table.ipynb>data table notebook</a>'\n",
              "            + ' to learn more about interactive tables.';\n",
              "          element.innerHTML = '';\n",
              "          dataTable['output_type'] = 'display_data';\n",
              "          await google.colab.output.renderOutput(dataTable, element);\n",
              "          const docLink = document.createElement('div');\n",
              "          docLink.innerHTML = docLinkHtml;\n",
              "          element.appendChild(docLink);\n",
              "        }\n",
              "      </script>\n",
              "    </div>\n",
              "  </div>\n",
              "  "
            ]
          },
          "metadata": {},
          "execution_count": 19
        }
      ]
    },
    {
      "cell_type": "code",
      "source": [
        "df1.info()"
      ],
      "metadata": {
        "colab": {
          "base_uri": "https://localhost:8080/"
        },
        "id": "oobqXKT4-5JX",
        "outputId": "0f28b0d3-d638-4d53-b400-0731e291e05e"
      },
      "execution_count": 20,
      "outputs": [
        {
          "output_type": "stream",
          "name": "stdout",
          "text": [
            "<class 'pandas.core.frame.DataFrame'>\n",
            "RangeIndex: 337838 entries, 0 to 337837\n",
            "Data columns (total 9 columns):\n",
            " #   Column          Non-Null Count   Dtype \n",
            "---  ------          --------------   ----- \n",
            " 0   reviewerID      337838 non-null  object\n",
            " 1   asin            337838 non-null  object\n",
            " 2   reviewerName    332860 non-null  object\n",
            " 3   helpful         337838 non-null  object\n",
            " 4   reviewText      337838 non-null  object\n",
            " 5   overall         337838 non-null  int64 \n",
            " 6   summary         337838 non-null  object\n",
            " 7   unixReviewTime  337838 non-null  int64 \n",
            " 8   reviewTime      337838 non-null  object\n",
            "dtypes: int64(2), object(7)\n",
            "memory usage: 23.2+ MB\n"
          ]
        }
      ]
    },
    {
      "cell_type": "code",
      "source": [
        "df1.isnull().sum()"
      ],
      "metadata": {
        "colab": {
          "base_uri": "https://localhost:8080/"
        },
        "id": "xGiCId-s-9Vd",
        "outputId": "01819434-1429-4e02-c800-a79b6fffec9a"
      },
      "execution_count": 21,
      "outputs": [
        {
          "output_type": "execute_result",
          "data": {
            "text/plain": [
              "reviewerID           0\n",
              "asin                 0\n",
              "reviewerName      4978\n",
              "helpful              0\n",
              "reviewText           0\n",
              "overall              0\n",
              "summary              0\n",
              "unixReviewTime       0\n",
              "reviewTime           0\n",
              "dtype: int64"
            ]
          },
          "metadata": {},
          "execution_count": 21
        }
      ]
    },
    {
      "cell_type": "code",
      "source": [
        "df2.head()"
      ],
      "metadata": {
        "colab": {
          "base_uri": "https://localhost:8080/",
          "height": 337
        },
        "id": "zvRHa42y-i_l",
        "outputId": "d8553a5d-c068-44f0-c702-d8334abb3c09"
      },
      "execution_count": 22,
      "outputs": [
        {
          "output_type": "execute_result",
          "data": {
            "text/plain": [
              "       reviewerID        asin              reviewerName helpful  \\\n",
              "0   AVSMRPI23DQI2  B000VEMNRS      HomerKSA \"Homer KSA\"  [0, 0]   \n",
              "1  A174X7S1J75AZ3  B0051PSQQ4         Jamie Hamel-Smith  [0, 0]   \n",
              "2   A6EARR1782W5N  B00H3OYSHW                     K. Li  [0, 0]   \n",
              "3  A39UANX63CUAEI  B00ADXLBS4                      Mike  [1, 1]   \n",
              "4  A2XTEZQASWZLJA  B004BUTGD2  Michael J. Eckman \"Mike\"  [3, 3]   \n",
              "\n",
              "                                          reviewText  overall  \\\n",
              "0  I had been late actually to write a review on ...        5   \n",
              "1  It's a great and portable umbrella, but there'...        4   \n",
              "2  This case comes with it bulid-in screen cover/...        4   \n",
              "3  Unpacking I ran into a 30 hour radio series on...        5   \n",
              "4  Its a 25' RJ11 phone cord.  What more can I sa...        5   \n",
              "\n",
              "                                         summary  unixReviewTime   reviewTime  \n",
              "0     for all you long distance DAD's with SKYPE      1235001600  02 19, 2009  \n",
              "1    Does the job, and the quality is quite good      1384214400  11 12, 2013  \n",
              "2  2 in 1  IpadAir case and bluetooth keyboard !      1403568000  06 24, 2014  \n",
              "3               cheap and exceeds my expectation      1396742400   04 6, 2014  \n",
              "4                     Does what its supposed to!      1350777600  10 21, 2012  "
            ],
            "text/html": [
              "\n",
              "  <div id=\"df-6d7d2de6-7fe6-4261-b28e-ee16dd857149\">\n",
              "    <div class=\"colab-df-container\">\n",
              "      <div>\n",
              "<style scoped>\n",
              "    .dataframe tbody tr th:only-of-type {\n",
              "        vertical-align: middle;\n",
              "    }\n",
              "\n",
              "    .dataframe tbody tr th {\n",
              "        vertical-align: top;\n",
              "    }\n",
              "\n",
              "    .dataframe thead th {\n",
              "        text-align: right;\n",
              "    }\n",
              "</style>\n",
              "<table border=\"1\" class=\"dataframe\">\n",
              "  <thead>\n",
              "    <tr style=\"text-align: right;\">\n",
              "      <th></th>\n",
              "      <th>reviewerID</th>\n",
              "      <th>asin</th>\n",
              "      <th>reviewerName</th>\n",
              "      <th>helpful</th>\n",
              "      <th>reviewText</th>\n",
              "      <th>overall</th>\n",
              "      <th>summary</th>\n",
              "      <th>unixReviewTime</th>\n",
              "      <th>reviewTime</th>\n",
              "    </tr>\n",
              "  </thead>\n",
              "  <tbody>\n",
              "    <tr>\n",
              "      <th>0</th>\n",
              "      <td>AVSMRPI23DQI2</td>\n",
              "      <td>B000VEMNRS</td>\n",
              "      <td>HomerKSA \"Homer KSA\"</td>\n",
              "      <td>[0, 0]</td>\n",
              "      <td>I had been late actually to write a review on ...</td>\n",
              "      <td>5</td>\n",
              "      <td>for all you long distance DAD's with SKYPE</td>\n",
              "      <td>1235001600</td>\n",
              "      <td>02 19, 2009</td>\n",
              "    </tr>\n",
              "    <tr>\n",
              "      <th>1</th>\n",
              "      <td>A174X7S1J75AZ3</td>\n",
              "      <td>B0051PSQQ4</td>\n",
              "      <td>Jamie Hamel-Smith</td>\n",
              "      <td>[0, 0]</td>\n",
              "      <td>It's a great and portable umbrella, but there'...</td>\n",
              "      <td>4</td>\n",
              "      <td>Does the job, and the quality is quite good</td>\n",
              "      <td>1384214400</td>\n",
              "      <td>11 12, 2013</td>\n",
              "    </tr>\n",
              "    <tr>\n",
              "      <th>2</th>\n",
              "      <td>A6EARR1782W5N</td>\n",
              "      <td>B00H3OYSHW</td>\n",
              "      <td>K. Li</td>\n",
              "      <td>[0, 0]</td>\n",
              "      <td>This case comes with it bulid-in screen cover/...</td>\n",
              "      <td>4</td>\n",
              "      <td>2 in 1  IpadAir case and bluetooth keyboard !</td>\n",
              "      <td>1403568000</td>\n",
              "      <td>06 24, 2014</td>\n",
              "    </tr>\n",
              "    <tr>\n",
              "      <th>3</th>\n",
              "      <td>A39UANX63CUAEI</td>\n",
              "      <td>B00ADXLBS4</td>\n",
              "      <td>Mike</td>\n",
              "      <td>[1, 1]</td>\n",
              "      <td>Unpacking I ran into a 30 hour radio series on...</td>\n",
              "      <td>5</td>\n",
              "      <td>cheap and exceeds my expectation</td>\n",
              "      <td>1396742400</td>\n",
              "      <td>04 6, 2014</td>\n",
              "    </tr>\n",
              "    <tr>\n",
              "      <th>4</th>\n",
              "      <td>A2XTEZQASWZLJA</td>\n",
              "      <td>B004BUTGD2</td>\n",
              "      <td>Michael J. Eckman \"Mike\"</td>\n",
              "      <td>[3, 3]</td>\n",
              "      <td>Its a 25' RJ11 phone cord.  What more can I sa...</td>\n",
              "      <td>5</td>\n",
              "      <td>Does what its supposed to!</td>\n",
              "      <td>1350777600</td>\n",
              "      <td>10 21, 2012</td>\n",
              "    </tr>\n",
              "  </tbody>\n",
              "</table>\n",
              "</div>\n",
              "      <button class=\"colab-df-convert\" onclick=\"convertToInteractive('df-6d7d2de6-7fe6-4261-b28e-ee16dd857149')\"\n",
              "              title=\"Convert this dataframe to an interactive table.\"\n",
              "              style=\"display:none;\">\n",
              "        \n",
              "  <svg xmlns=\"http://www.w3.org/2000/svg\" height=\"24px\"viewBox=\"0 0 24 24\"\n",
              "       width=\"24px\">\n",
              "    <path d=\"M0 0h24v24H0V0z\" fill=\"none\"/>\n",
              "    <path d=\"M18.56 5.44l.94 2.06.94-2.06 2.06-.94-2.06-.94-.94-2.06-.94 2.06-2.06.94zm-11 1L8.5 8.5l.94-2.06 2.06-.94-2.06-.94L8.5 2.5l-.94 2.06-2.06.94zm10 10l.94 2.06.94-2.06 2.06-.94-2.06-.94-.94-2.06-.94 2.06-2.06.94z\"/><path d=\"M17.41 7.96l-1.37-1.37c-.4-.4-.92-.59-1.43-.59-.52 0-1.04.2-1.43.59L10.3 9.45l-7.72 7.72c-.78.78-.78 2.05 0 2.83L4 21.41c.39.39.9.59 1.41.59.51 0 1.02-.2 1.41-.59l7.78-7.78 2.81-2.81c.8-.78.8-2.07 0-2.86zM5.41 20L4 18.59l7.72-7.72 1.47 1.35L5.41 20z\"/>\n",
              "  </svg>\n",
              "      </button>\n",
              "      \n",
              "  <style>\n",
              "    .colab-df-container {\n",
              "      display:flex;\n",
              "      flex-wrap:wrap;\n",
              "      gap: 12px;\n",
              "    }\n",
              "\n",
              "    .colab-df-convert {\n",
              "      background-color: #E8F0FE;\n",
              "      border: none;\n",
              "      border-radius: 50%;\n",
              "      cursor: pointer;\n",
              "      display: none;\n",
              "      fill: #1967D2;\n",
              "      height: 32px;\n",
              "      padding: 0 0 0 0;\n",
              "      width: 32px;\n",
              "    }\n",
              "\n",
              "    .colab-df-convert:hover {\n",
              "      background-color: #E2EBFA;\n",
              "      box-shadow: 0px 1px 2px rgba(60, 64, 67, 0.3), 0px 1px 3px 1px rgba(60, 64, 67, 0.15);\n",
              "      fill: #174EA6;\n",
              "    }\n",
              "\n",
              "    [theme=dark] .colab-df-convert {\n",
              "      background-color: #3B4455;\n",
              "      fill: #D2E3FC;\n",
              "    }\n",
              "\n",
              "    [theme=dark] .colab-df-convert:hover {\n",
              "      background-color: #434B5C;\n",
              "      box-shadow: 0px 1px 3px 1px rgba(0, 0, 0, 0.15);\n",
              "      filter: drop-shadow(0px 1px 2px rgba(0, 0, 0, 0.3));\n",
              "      fill: #FFFFFF;\n",
              "    }\n",
              "  </style>\n",
              "\n",
              "      <script>\n",
              "        const buttonEl =\n",
              "          document.querySelector('#df-6d7d2de6-7fe6-4261-b28e-ee16dd857149 button.colab-df-convert');\n",
              "        buttonEl.style.display =\n",
              "          google.colab.kernel.accessAllowed ? 'block' : 'none';\n",
              "\n",
              "        async function convertToInteractive(key) {\n",
              "          const element = document.querySelector('#df-6d7d2de6-7fe6-4261-b28e-ee16dd857149');\n",
              "          const dataTable =\n",
              "            await google.colab.kernel.invokeFunction('convertToInteractive',\n",
              "                                                     [key], {});\n",
              "          if (!dataTable) return;\n",
              "\n",
              "          const docLinkHtml = 'Like what you see? Visit the ' +\n",
              "            '<a target=\"_blank\" href=https://colab.research.google.com/notebooks/data_table.ipynb>data table notebook</a>'\n",
              "            + ' to learn more about interactive tables.';\n",
              "          element.innerHTML = '';\n",
              "          dataTable['output_type'] = 'display_data';\n",
              "          await google.colab.output.renderOutput(dataTable, element);\n",
              "          const docLink = document.createElement('div');\n",
              "          docLink.innerHTML = docLinkHtml;\n",
              "          element.appendChild(docLink);\n",
              "        }\n",
              "      </script>\n",
              "    </div>\n",
              "  </div>\n",
              "  "
            ]
          },
          "metadata": {},
          "execution_count": 22
        }
      ]
    },
    {
      "cell_type": "code",
      "source": [
        "df2.tail()"
      ],
      "metadata": {
        "colab": {
          "base_uri": "https://localhost:8080/",
          "height": 337
        },
        "id": "1vWbNS1G-jER",
        "outputId": "c8e74f83-831e-4a72-d403-6fa4bf6c3759"
      },
      "execution_count": 23,
      "outputs": [
        {
          "output_type": "execute_result",
          "data": {
            "text/plain": [
              "            reviewerID        asin reviewerName     helpful  \\\n",
              "337833  A360104XRFH2SE  B002OOWC4C       Meghan  [182, 184]   \n",
              "337834  A34SNV6K27YBRW  B005UUY25E          RSH      [0, 0]   \n",
              "337835  A3341UQUADKC9B  B006GWO5WK          NaN      [0, 0]   \n",
              "337836   APC8FKR7TTDQI  B007X4TGXI  LRic \"Lric\"      [0, 0]   \n",
              "337837  A1EUP72GB2GZOP  B006QB1RPY         Ives      [0, 1]   \n",
              "\n",
              "                                               reviewText  overall  \\\n",
              "337833  I spent quite a bit of time looking at various...        5   \n",
              "337834  It solves the problem of not enough usb portso...        5   \n",
              "337835  Charges fast and works well.  Got it right awa...        5   \n",
              "337836  When I started using this it was great/awesome...        2   \n",
              "337837  In the short time that I owned this router I n...        2   \n",
              "\n",
              "                                                  summary  unixReviewTime  \\\n",
              "337833                    Fantastic tablet for the money!      1255996800   \n",
              "337834                       Solves the usb port problem.      1368921600   \n",
              "337835                                         works well      1351641600   \n",
              "337836  Great when it's set as a stationary external d...      1394150400   \n",
              "337837  This guy was really bad. Plus I don't know if ...      1404950400   \n",
              "\n",
              "         reviewTime  \n",
              "337833  10 20, 2009  \n",
              "337834  05 19, 2013  \n",
              "337835  10 31, 2012  \n",
              "337836   03 7, 2014  \n",
              "337837  07 10, 2014  "
            ],
            "text/html": [
              "\n",
              "  <div id=\"df-8dca6373-0202-493b-8cfe-384bc3455481\">\n",
              "    <div class=\"colab-df-container\">\n",
              "      <div>\n",
              "<style scoped>\n",
              "    .dataframe tbody tr th:only-of-type {\n",
              "        vertical-align: middle;\n",
              "    }\n",
              "\n",
              "    .dataframe tbody tr th {\n",
              "        vertical-align: top;\n",
              "    }\n",
              "\n",
              "    .dataframe thead th {\n",
              "        text-align: right;\n",
              "    }\n",
              "</style>\n",
              "<table border=\"1\" class=\"dataframe\">\n",
              "  <thead>\n",
              "    <tr style=\"text-align: right;\">\n",
              "      <th></th>\n",
              "      <th>reviewerID</th>\n",
              "      <th>asin</th>\n",
              "      <th>reviewerName</th>\n",
              "      <th>helpful</th>\n",
              "      <th>reviewText</th>\n",
              "      <th>overall</th>\n",
              "      <th>summary</th>\n",
              "      <th>unixReviewTime</th>\n",
              "      <th>reviewTime</th>\n",
              "    </tr>\n",
              "  </thead>\n",
              "  <tbody>\n",
              "    <tr>\n",
              "      <th>337833</th>\n",
              "      <td>A360104XRFH2SE</td>\n",
              "      <td>B002OOWC4C</td>\n",
              "      <td>Meghan</td>\n",
              "      <td>[182, 184]</td>\n",
              "      <td>I spent quite a bit of time looking at various...</td>\n",
              "      <td>5</td>\n",
              "      <td>Fantastic tablet for the money!</td>\n",
              "      <td>1255996800</td>\n",
              "      <td>10 20, 2009</td>\n",
              "    </tr>\n",
              "    <tr>\n",
              "      <th>337834</th>\n",
              "      <td>A34SNV6K27YBRW</td>\n",
              "      <td>B005UUY25E</td>\n",
              "      <td>RSH</td>\n",
              "      <td>[0, 0]</td>\n",
              "      <td>It solves the problem of not enough usb portso...</td>\n",
              "      <td>5</td>\n",
              "      <td>Solves the usb port problem.</td>\n",
              "      <td>1368921600</td>\n",
              "      <td>05 19, 2013</td>\n",
              "    </tr>\n",
              "    <tr>\n",
              "      <th>337835</th>\n",
              "      <td>A3341UQUADKC9B</td>\n",
              "      <td>B006GWO5WK</td>\n",
              "      <td>NaN</td>\n",
              "      <td>[0, 0]</td>\n",
              "      <td>Charges fast and works well.  Got it right awa...</td>\n",
              "      <td>5</td>\n",
              "      <td>works well</td>\n",
              "      <td>1351641600</td>\n",
              "      <td>10 31, 2012</td>\n",
              "    </tr>\n",
              "    <tr>\n",
              "      <th>337836</th>\n",
              "      <td>APC8FKR7TTDQI</td>\n",
              "      <td>B007X4TGXI</td>\n",
              "      <td>LRic \"Lric\"</td>\n",
              "      <td>[0, 0]</td>\n",
              "      <td>When I started using this it was great/awesome...</td>\n",
              "      <td>2</td>\n",
              "      <td>Great when it's set as a stationary external d...</td>\n",
              "      <td>1394150400</td>\n",
              "      <td>03 7, 2014</td>\n",
              "    </tr>\n",
              "    <tr>\n",
              "      <th>337837</th>\n",
              "      <td>A1EUP72GB2GZOP</td>\n",
              "      <td>B006QB1RPY</td>\n",
              "      <td>Ives</td>\n",
              "      <td>[0, 1]</td>\n",
              "      <td>In the short time that I owned this router I n...</td>\n",
              "      <td>2</td>\n",
              "      <td>This guy was really bad. Plus I don't know if ...</td>\n",
              "      <td>1404950400</td>\n",
              "      <td>07 10, 2014</td>\n",
              "    </tr>\n",
              "  </tbody>\n",
              "</table>\n",
              "</div>\n",
              "      <button class=\"colab-df-convert\" onclick=\"convertToInteractive('df-8dca6373-0202-493b-8cfe-384bc3455481')\"\n",
              "              title=\"Convert this dataframe to an interactive table.\"\n",
              "              style=\"display:none;\">\n",
              "        \n",
              "  <svg xmlns=\"http://www.w3.org/2000/svg\" height=\"24px\"viewBox=\"0 0 24 24\"\n",
              "       width=\"24px\">\n",
              "    <path d=\"M0 0h24v24H0V0z\" fill=\"none\"/>\n",
              "    <path d=\"M18.56 5.44l.94 2.06.94-2.06 2.06-.94-2.06-.94-.94-2.06-.94 2.06-2.06.94zm-11 1L8.5 8.5l.94-2.06 2.06-.94-2.06-.94L8.5 2.5l-.94 2.06-2.06.94zm10 10l.94 2.06.94-2.06 2.06-.94-2.06-.94-.94-2.06-.94 2.06-2.06.94z\"/><path d=\"M17.41 7.96l-1.37-1.37c-.4-.4-.92-.59-1.43-.59-.52 0-1.04.2-1.43.59L10.3 9.45l-7.72 7.72c-.78.78-.78 2.05 0 2.83L4 21.41c.39.39.9.59 1.41.59.51 0 1.02-.2 1.41-.59l7.78-7.78 2.81-2.81c.8-.78.8-2.07 0-2.86zM5.41 20L4 18.59l7.72-7.72 1.47 1.35L5.41 20z\"/>\n",
              "  </svg>\n",
              "      </button>\n",
              "      \n",
              "  <style>\n",
              "    .colab-df-container {\n",
              "      display:flex;\n",
              "      flex-wrap:wrap;\n",
              "      gap: 12px;\n",
              "    }\n",
              "\n",
              "    .colab-df-convert {\n",
              "      background-color: #E8F0FE;\n",
              "      border: none;\n",
              "      border-radius: 50%;\n",
              "      cursor: pointer;\n",
              "      display: none;\n",
              "      fill: #1967D2;\n",
              "      height: 32px;\n",
              "      padding: 0 0 0 0;\n",
              "      width: 32px;\n",
              "    }\n",
              "\n",
              "    .colab-df-convert:hover {\n",
              "      background-color: #E2EBFA;\n",
              "      box-shadow: 0px 1px 2px rgba(60, 64, 67, 0.3), 0px 1px 3px 1px rgba(60, 64, 67, 0.15);\n",
              "      fill: #174EA6;\n",
              "    }\n",
              "\n",
              "    [theme=dark] .colab-df-convert {\n",
              "      background-color: #3B4455;\n",
              "      fill: #D2E3FC;\n",
              "    }\n",
              "\n",
              "    [theme=dark] .colab-df-convert:hover {\n",
              "      background-color: #434B5C;\n",
              "      box-shadow: 0px 1px 3px 1px rgba(0, 0, 0, 0.15);\n",
              "      filter: drop-shadow(0px 1px 2px rgba(0, 0, 0, 0.3));\n",
              "      fill: #FFFFFF;\n",
              "    }\n",
              "  </style>\n",
              "\n",
              "      <script>\n",
              "        const buttonEl =\n",
              "          document.querySelector('#df-8dca6373-0202-493b-8cfe-384bc3455481 button.colab-df-convert');\n",
              "        buttonEl.style.display =\n",
              "          google.colab.kernel.accessAllowed ? 'block' : 'none';\n",
              "\n",
              "        async function convertToInteractive(key) {\n",
              "          const element = document.querySelector('#df-8dca6373-0202-493b-8cfe-384bc3455481');\n",
              "          const dataTable =\n",
              "            await google.colab.kernel.invokeFunction('convertToInteractive',\n",
              "                                                     [key], {});\n",
              "          if (!dataTable) return;\n",
              "\n",
              "          const docLinkHtml = 'Like what you see? Visit the ' +\n",
              "            '<a target=\"_blank\" href=https://colab.research.google.com/notebooks/data_table.ipynb>data table notebook</a>'\n",
              "            + ' to learn more about interactive tables.';\n",
              "          element.innerHTML = '';\n",
              "          dataTable['output_type'] = 'display_data';\n",
              "          await google.colab.output.renderOutput(dataTable, element);\n",
              "          const docLink = document.createElement('div');\n",
              "          docLink.innerHTML = docLinkHtml;\n",
              "          element.appendChild(docLink);\n",
              "        }\n",
              "      </script>\n",
              "    </div>\n",
              "  </div>\n",
              "  "
            ]
          },
          "metadata": {},
          "execution_count": 23
        }
      ]
    },
    {
      "cell_type": "code",
      "source": [
        "df2.shape"
      ],
      "metadata": {
        "colab": {
          "base_uri": "https://localhost:8080/"
        },
        "id": "SNSffqyQ-jJG",
        "outputId": "50fc97a9-14f5-47e8-9b52-dc140efb2795"
      },
      "execution_count": 24,
      "outputs": [
        {
          "output_type": "execute_result",
          "data": {
            "text/plain": [
              "(337838, 9)"
            ]
          },
          "metadata": {},
          "execution_count": 24
        }
      ]
    },
    {
      "cell_type": "code",
      "source": [
        "df2.columns"
      ],
      "metadata": {
        "colab": {
          "base_uri": "https://localhost:8080/"
        },
        "id": "6A0K1m_h_NhR",
        "outputId": "d5a480ec-99ab-4cc4-da98-a6ebba7a51b6"
      },
      "execution_count": 25,
      "outputs": [
        {
          "output_type": "execute_result",
          "data": {
            "text/plain": [
              "Index(['reviewerID', 'asin', 'reviewerName', 'helpful', 'reviewText',\n",
              "       'overall', 'summary', 'unixReviewTime', 'reviewTime'],\n",
              "      dtype='object')"
            ]
          },
          "metadata": {},
          "execution_count": 25
        }
      ]
    },
    {
      "cell_type": "code",
      "source": [
        "df2.describe()"
      ],
      "metadata": {
        "colab": {
          "base_uri": "https://localhost:8080/",
          "height": 300
        },
        "id": "rUa1jjh3-jNE",
        "outputId": "296e42ea-6d9d-4b53-93db-fb02c590133d"
      },
      "execution_count": 26,
      "outputs": [
        {
          "output_type": "execute_result",
          "data": {
            "text/plain": [
              "             overall  unixReviewTime\n",
              "count  337838.000000    3.378380e+05\n",
              "mean        4.222000    1.340638e+09\n",
              "std         1.186728    6.328978e+07\n",
              "min         1.000000    9.313920e+08\n",
              "25%         4.000000    1.318378e+09\n",
              "50%         5.000000    1.360800e+09\n",
              "75%         5.000000    1.384992e+09\n",
              "max         5.000000    1.406074e+09"
            ],
            "text/html": [
              "\n",
              "  <div id=\"df-a99fd0be-8b6b-42b4-89a5-e7e7ff1c60c4\">\n",
              "    <div class=\"colab-df-container\">\n",
              "      <div>\n",
              "<style scoped>\n",
              "    .dataframe tbody tr th:only-of-type {\n",
              "        vertical-align: middle;\n",
              "    }\n",
              "\n",
              "    .dataframe tbody tr th {\n",
              "        vertical-align: top;\n",
              "    }\n",
              "\n",
              "    .dataframe thead th {\n",
              "        text-align: right;\n",
              "    }\n",
              "</style>\n",
              "<table border=\"1\" class=\"dataframe\">\n",
              "  <thead>\n",
              "    <tr style=\"text-align: right;\">\n",
              "      <th></th>\n",
              "      <th>overall</th>\n",
              "      <th>unixReviewTime</th>\n",
              "    </tr>\n",
              "  </thead>\n",
              "  <tbody>\n",
              "    <tr>\n",
              "      <th>count</th>\n",
              "      <td>337838.000000</td>\n",
              "      <td>3.378380e+05</td>\n",
              "    </tr>\n",
              "    <tr>\n",
              "      <th>mean</th>\n",
              "      <td>4.222000</td>\n",
              "      <td>1.340638e+09</td>\n",
              "    </tr>\n",
              "    <tr>\n",
              "      <th>std</th>\n",
              "      <td>1.186728</td>\n",
              "      <td>6.328978e+07</td>\n",
              "    </tr>\n",
              "    <tr>\n",
              "      <th>min</th>\n",
              "      <td>1.000000</td>\n",
              "      <td>9.313920e+08</td>\n",
              "    </tr>\n",
              "    <tr>\n",
              "      <th>25%</th>\n",
              "      <td>4.000000</td>\n",
              "      <td>1.318378e+09</td>\n",
              "    </tr>\n",
              "    <tr>\n",
              "      <th>50%</th>\n",
              "      <td>5.000000</td>\n",
              "      <td>1.360800e+09</td>\n",
              "    </tr>\n",
              "    <tr>\n",
              "      <th>75%</th>\n",
              "      <td>5.000000</td>\n",
              "      <td>1.384992e+09</td>\n",
              "    </tr>\n",
              "    <tr>\n",
              "      <th>max</th>\n",
              "      <td>5.000000</td>\n",
              "      <td>1.406074e+09</td>\n",
              "    </tr>\n",
              "  </tbody>\n",
              "</table>\n",
              "</div>\n",
              "      <button class=\"colab-df-convert\" onclick=\"convertToInteractive('df-a99fd0be-8b6b-42b4-89a5-e7e7ff1c60c4')\"\n",
              "              title=\"Convert this dataframe to an interactive table.\"\n",
              "              style=\"display:none;\">\n",
              "        \n",
              "  <svg xmlns=\"http://www.w3.org/2000/svg\" height=\"24px\"viewBox=\"0 0 24 24\"\n",
              "       width=\"24px\">\n",
              "    <path d=\"M0 0h24v24H0V0z\" fill=\"none\"/>\n",
              "    <path d=\"M18.56 5.44l.94 2.06.94-2.06 2.06-.94-2.06-.94-.94-2.06-.94 2.06-2.06.94zm-11 1L8.5 8.5l.94-2.06 2.06-.94-2.06-.94L8.5 2.5l-.94 2.06-2.06.94zm10 10l.94 2.06.94-2.06 2.06-.94-2.06-.94-.94-2.06-.94 2.06-2.06.94z\"/><path d=\"M17.41 7.96l-1.37-1.37c-.4-.4-.92-.59-1.43-.59-.52 0-1.04.2-1.43.59L10.3 9.45l-7.72 7.72c-.78.78-.78 2.05 0 2.83L4 21.41c.39.39.9.59 1.41.59.51 0 1.02-.2 1.41-.59l7.78-7.78 2.81-2.81c.8-.78.8-2.07 0-2.86zM5.41 20L4 18.59l7.72-7.72 1.47 1.35L5.41 20z\"/>\n",
              "  </svg>\n",
              "      </button>\n",
              "      \n",
              "  <style>\n",
              "    .colab-df-container {\n",
              "      display:flex;\n",
              "      flex-wrap:wrap;\n",
              "      gap: 12px;\n",
              "    }\n",
              "\n",
              "    .colab-df-convert {\n",
              "      background-color: #E8F0FE;\n",
              "      border: none;\n",
              "      border-radius: 50%;\n",
              "      cursor: pointer;\n",
              "      display: none;\n",
              "      fill: #1967D2;\n",
              "      height: 32px;\n",
              "      padding: 0 0 0 0;\n",
              "      width: 32px;\n",
              "    }\n",
              "\n",
              "    .colab-df-convert:hover {\n",
              "      background-color: #E2EBFA;\n",
              "      box-shadow: 0px 1px 2px rgba(60, 64, 67, 0.3), 0px 1px 3px 1px rgba(60, 64, 67, 0.15);\n",
              "      fill: #174EA6;\n",
              "    }\n",
              "\n",
              "    [theme=dark] .colab-df-convert {\n",
              "      background-color: #3B4455;\n",
              "      fill: #D2E3FC;\n",
              "    }\n",
              "\n",
              "    [theme=dark] .colab-df-convert:hover {\n",
              "      background-color: #434B5C;\n",
              "      box-shadow: 0px 1px 3px 1px rgba(0, 0, 0, 0.15);\n",
              "      filter: drop-shadow(0px 1px 2px rgba(0, 0, 0, 0.3));\n",
              "      fill: #FFFFFF;\n",
              "    }\n",
              "  </style>\n",
              "\n",
              "      <script>\n",
              "        const buttonEl =\n",
              "          document.querySelector('#df-a99fd0be-8b6b-42b4-89a5-e7e7ff1c60c4 button.colab-df-convert');\n",
              "        buttonEl.style.display =\n",
              "          google.colab.kernel.accessAllowed ? 'block' : 'none';\n",
              "\n",
              "        async function convertToInteractive(key) {\n",
              "          const element = document.querySelector('#df-a99fd0be-8b6b-42b4-89a5-e7e7ff1c60c4');\n",
              "          const dataTable =\n",
              "            await google.colab.kernel.invokeFunction('convertToInteractive',\n",
              "                                                     [key], {});\n",
              "          if (!dataTable) return;\n",
              "\n",
              "          const docLinkHtml = 'Like what you see? Visit the ' +\n",
              "            '<a target=\"_blank\" href=https://colab.research.google.com/notebooks/data_table.ipynb>data table notebook</a>'\n",
              "            + ' to learn more about interactive tables.';\n",
              "          element.innerHTML = '';\n",
              "          dataTable['output_type'] = 'display_data';\n",
              "          await google.colab.output.renderOutput(dataTable, element);\n",
              "          const docLink = document.createElement('div');\n",
              "          docLink.innerHTML = docLinkHtml;\n",
              "          element.appendChild(docLink);\n",
              "        }\n",
              "      </script>\n",
              "    </div>\n",
              "  </div>\n",
              "  "
            ]
          },
          "metadata": {},
          "execution_count": 26
        }
      ]
    },
    {
      "cell_type": "code",
      "source": [
        "df2.corr()"
      ],
      "metadata": {
        "colab": {
          "base_uri": "https://localhost:8080/",
          "height": 112
        },
        "id": "E1F_mN_7-jUH",
        "outputId": "014313b4-0895-4cb9-b3a7-1837e877e124"
      },
      "execution_count": 27,
      "outputs": [
        {
          "output_type": "execute_result",
          "data": {
            "text/plain": [
              "                 overall  unixReviewTime\n",
              "overall         1.000000        0.059083\n",
              "unixReviewTime  0.059083        1.000000"
            ],
            "text/html": [
              "\n",
              "  <div id=\"df-849187bf-ba7f-43b2-a8e8-7fe90d81b3a1\">\n",
              "    <div class=\"colab-df-container\">\n",
              "      <div>\n",
              "<style scoped>\n",
              "    .dataframe tbody tr th:only-of-type {\n",
              "        vertical-align: middle;\n",
              "    }\n",
              "\n",
              "    .dataframe tbody tr th {\n",
              "        vertical-align: top;\n",
              "    }\n",
              "\n",
              "    .dataframe thead th {\n",
              "        text-align: right;\n",
              "    }\n",
              "</style>\n",
              "<table border=\"1\" class=\"dataframe\">\n",
              "  <thead>\n",
              "    <tr style=\"text-align: right;\">\n",
              "      <th></th>\n",
              "      <th>overall</th>\n",
              "      <th>unixReviewTime</th>\n",
              "    </tr>\n",
              "  </thead>\n",
              "  <tbody>\n",
              "    <tr>\n",
              "      <th>overall</th>\n",
              "      <td>1.000000</td>\n",
              "      <td>0.059083</td>\n",
              "    </tr>\n",
              "    <tr>\n",
              "      <th>unixReviewTime</th>\n",
              "      <td>0.059083</td>\n",
              "      <td>1.000000</td>\n",
              "    </tr>\n",
              "  </tbody>\n",
              "</table>\n",
              "</div>\n",
              "      <button class=\"colab-df-convert\" onclick=\"convertToInteractive('df-849187bf-ba7f-43b2-a8e8-7fe90d81b3a1')\"\n",
              "              title=\"Convert this dataframe to an interactive table.\"\n",
              "              style=\"display:none;\">\n",
              "        \n",
              "  <svg xmlns=\"http://www.w3.org/2000/svg\" height=\"24px\"viewBox=\"0 0 24 24\"\n",
              "       width=\"24px\">\n",
              "    <path d=\"M0 0h24v24H0V0z\" fill=\"none\"/>\n",
              "    <path d=\"M18.56 5.44l.94 2.06.94-2.06 2.06-.94-2.06-.94-.94-2.06-.94 2.06-2.06.94zm-11 1L8.5 8.5l.94-2.06 2.06-.94-2.06-.94L8.5 2.5l-.94 2.06-2.06.94zm10 10l.94 2.06.94-2.06 2.06-.94-2.06-.94-.94-2.06-.94 2.06-2.06.94z\"/><path d=\"M17.41 7.96l-1.37-1.37c-.4-.4-.92-.59-1.43-.59-.52 0-1.04.2-1.43.59L10.3 9.45l-7.72 7.72c-.78.78-.78 2.05 0 2.83L4 21.41c.39.39.9.59 1.41.59.51 0 1.02-.2 1.41-.59l7.78-7.78 2.81-2.81c.8-.78.8-2.07 0-2.86zM5.41 20L4 18.59l7.72-7.72 1.47 1.35L5.41 20z\"/>\n",
              "  </svg>\n",
              "      </button>\n",
              "      \n",
              "  <style>\n",
              "    .colab-df-container {\n",
              "      display:flex;\n",
              "      flex-wrap:wrap;\n",
              "      gap: 12px;\n",
              "    }\n",
              "\n",
              "    .colab-df-convert {\n",
              "      background-color: #E8F0FE;\n",
              "      border: none;\n",
              "      border-radius: 50%;\n",
              "      cursor: pointer;\n",
              "      display: none;\n",
              "      fill: #1967D2;\n",
              "      height: 32px;\n",
              "      padding: 0 0 0 0;\n",
              "      width: 32px;\n",
              "    }\n",
              "\n",
              "    .colab-df-convert:hover {\n",
              "      background-color: #E2EBFA;\n",
              "      box-shadow: 0px 1px 2px rgba(60, 64, 67, 0.3), 0px 1px 3px 1px rgba(60, 64, 67, 0.15);\n",
              "      fill: #174EA6;\n",
              "    }\n",
              "\n",
              "    [theme=dark] .colab-df-convert {\n",
              "      background-color: #3B4455;\n",
              "      fill: #D2E3FC;\n",
              "    }\n",
              "\n",
              "    [theme=dark] .colab-df-convert:hover {\n",
              "      background-color: #434B5C;\n",
              "      box-shadow: 0px 1px 3px 1px rgba(0, 0, 0, 0.15);\n",
              "      filter: drop-shadow(0px 1px 2px rgba(0, 0, 0, 0.3));\n",
              "      fill: #FFFFFF;\n",
              "    }\n",
              "  </style>\n",
              "\n",
              "      <script>\n",
              "        const buttonEl =\n",
              "          document.querySelector('#df-849187bf-ba7f-43b2-a8e8-7fe90d81b3a1 button.colab-df-convert');\n",
              "        buttonEl.style.display =\n",
              "          google.colab.kernel.accessAllowed ? 'block' : 'none';\n",
              "\n",
              "        async function convertToInteractive(key) {\n",
              "          const element = document.querySelector('#df-849187bf-ba7f-43b2-a8e8-7fe90d81b3a1');\n",
              "          const dataTable =\n",
              "            await google.colab.kernel.invokeFunction('convertToInteractive',\n",
              "                                                     [key], {});\n",
              "          if (!dataTable) return;\n",
              "\n",
              "          const docLinkHtml = 'Like what you see? Visit the ' +\n",
              "            '<a target=\"_blank\" href=https://colab.research.google.com/notebooks/data_table.ipynb>data table notebook</a>'\n",
              "            + ' to learn more about interactive tables.';\n",
              "          element.innerHTML = '';\n",
              "          dataTable['output_type'] = 'display_data';\n",
              "          await google.colab.output.renderOutput(dataTable, element);\n",
              "          const docLink = document.createElement('div');\n",
              "          docLink.innerHTML = docLinkHtml;\n",
              "          element.appendChild(docLink);\n",
              "        }\n",
              "      </script>\n",
              "    </div>\n",
              "  </div>\n",
              "  "
            ]
          },
          "metadata": {},
          "execution_count": 27
        }
      ]
    },
    {
      "cell_type": "code",
      "source": [
        "df2.info()"
      ],
      "metadata": {
        "colab": {
          "base_uri": "https://localhost:8080/"
        },
        "id": "ol3PnFZd-uRC",
        "outputId": "e8f648f6-a884-49ab-dfe1-0dc82e8f72c6"
      },
      "execution_count": 28,
      "outputs": [
        {
          "output_type": "stream",
          "name": "stdout",
          "text": [
            "<class 'pandas.core.frame.DataFrame'>\n",
            "RangeIndex: 337838 entries, 0 to 337837\n",
            "Data columns (total 9 columns):\n",
            " #   Column          Non-Null Count   Dtype \n",
            "---  ------          --------------   ----- \n",
            " 0   reviewerID      337838 non-null  object\n",
            " 1   asin            337838 non-null  object\n",
            " 2   reviewerName    332802 non-null  object\n",
            " 3   helpful         337838 non-null  object\n",
            " 4   reviewText      337838 non-null  object\n",
            " 5   overall         337838 non-null  int64 \n",
            " 6   summary         337838 non-null  object\n",
            " 7   unixReviewTime  337838 non-null  int64 \n",
            " 8   reviewTime      337838 non-null  object\n",
            "dtypes: int64(2), object(7)\n",
            "memory usage: 23.2+ MB\n"
          ]
        }
      ]
    },
    {
      "cell_type": "code",
      "source": [
        "df2.isnull().sum()"
      ],
      "metadata": {
        "colab": {
          "base_uri": "https://localhost:8080/"
        },
        "id": "4tIJ4VnL_Gpz",
        "outputId": "678649f9-4e90-444f-f3fa-e981a49a95e6"
      },
      "execution_count": 29,
      "outputs": [
        {
          "output_type": "execute_result",
          "data": {
            "text/plain": [
              "reviewerID           0\n",
              "asin                 0\n",
              "reviewerName      5036\n",
              "helpful              0\n",
              "reviewText           0\n",
              "overall              0\n",
              "summary              0\n",
              "unixReviewTime       0\n",
              "reviewTime           0\n",
              "dtype: int64"
            ]
          },
          "metadata": {},
          "execution_count": 29
        }
      ]
    },
    {
      "cell_type": "markdown",
      "source": [
        "**Çok fazla veri olduğu için 5 tane csv dosyayı oluşturduk ve veriyi beşe ayrıdık. "
      ],
      "metadata": {
        "id": "HHMmUkzB_-po"
      }
    },
    {
      "cell_type": "code",
      "source": [
        "df1.to_csv(\"amazon_1.csv\")\n",
        "df2.to_csv(\"amazon_2.csv\")\n",
        "df3.to_csv(\"amazon_3.csv\")\n",
        "df4.to_csv(\"amazon_4.csv\")\n",
        "df5.to_csv(\"amazon_5.csv\")"
      ],
      "metadata": {
        "id": "yJrZy4Uv_I_R"
      },
      "execution_count": 30,
      "outputs": []
    },
    {
      "cell_type": "code",
      "source": [
        "df=pd.read_csv(\"amazon_1.csv\").drop(\"Unnamed: 0\",axis=1)"
      ],
      "metadata": {
        "id": "JTyDHb9j_2oS"
      },
      "execution_count": 31,
      "outputs": []
    },
    {
      "cell_type": "code",
      "source": [
        "df.sample(5)"
      ],
      "metadata": {
        "colab": {
          "base_uri": "https://localhost:8080/",
          "height": 337
        },
        "id": "0w4428HrAOVB",
        "outputId": "f4241cd2-455c-4c85-f806-be02ec8cf650"
      },
      "execution_count": 32,
      "outputs": [
        {
          "output_type": "execute_result",
          "data": {
            "text/plain": [
              "            reviewerID        asin                           reviewerName  \\\n",
              "144126  A254MDH9GJ1HQD  B00BVRQEKG                      Maleko \"islndsnw\"   \n",
              "270019  A283X4O3JWU7LP  B00B5BRIMG                                 shn006   \n",
              "113873  A2LI3RBUEH7TXO  B0001MKU48                      Doodle Meriwether   \n",
              "334207  A2YEFJMLQTZZWE  B000O9GGLY                             A. Westner   \n",
              "209560  A2YKWYC3WQJX5J  B007Q8GOGI  Shannon Lastowski \"Queen of Caffeine\"   \n",
              "\n",
              "       helpful                                         reviewText  overall  \\\n",
              "144126  [0, 0]  works great.  I have 2 of these and one is on ...        5   \n",
              "270019  [0, 0]  fast SSD and good price. However does not real...        3   \n",
              "113873  [1, 4]  These things are flimsy and they arrived warpe...        2   \n",
              "334207  [0, 0]  Very good optics produce sharp images. I'm usi...        5   \n",
              "209560  [0, 0]  So often, right before I first power up, I see...        5   \n",
              "\n",
              "                                           summary  unixReviewTime  \\\n",
              "144126                      good product for price      1405468800   \n",
              "270019                 Does not support encryption      1405900800   \n",
              "113873  so much for purchasing based on reviews...      1327536000   \n",
              "334207                         Good Quality Webcam      1359676800   \n",
              "209560                                I confess...      1354060800   \n",
              "\n",
              "         reviewTime  \n",
              "144126  07 16, 2014  \n",
              "270019  07 21, 2014  \n",
              "113873  01 26, 2012  \n",
              "334207   02 1, 2013  \n",
              "209560  11 28, 2012  "
            ],
            "text/html": [
              "\n",
              "  <div id=\"df-89da4817-66c1-4c08-a84b-44025bb6ad91\">\n",
              "    <div class=\"colab-df-container\">\n",
              "      <div>\n",
              "<style scoped>\n",
              "    .dataframe tbody tr th:only-of-type {\n",
              "        vertical-align: middle;\n",
              "    }\n",
              "\n",
              "    .dataframe tbody tr th {\n",
              "        vertical-align: top;\n",
              "    }\n",
              "\n",
              "    .dataframe thead th {\n",
              "        text-align: right;\n",
              "    }\n",
              "</style>\n",
              "<table border=\"1\" class=\"dataframe\">\n",
              "  <thead>\n",
              "    <tr style=\"text-align: right;\">\n",
              "      <th></th>\n",
              "      <th>reviewerID</th>\n",
              "      <th>asin</th>\n",
              "      <th>reviewerName</th>\n",
              "      <th>helpful</th>\n",
              "      <th>reviewText</th>\n",
              "      <th>overall</th>\n",
              "      <th>summary</th>\n",
              "      <th>unixReviewTime</th>\n",
              "      <th>reviewTime</th>\n",
              "    </tr>\n",
              "  </thead>\n",
              "  <tbody>\n",
              "    <tr>\n",
              "      <th>144126</th>\n",
              "      <td>A254MDH9GJ1HQD</td>\n",
              "      <td>B00BVRQEKG</td>\n",
              "      <td>Maleko \"islndsnw\"</td>\n",
              "      <td>[0, 0]</td>\n",
              "      <td>works great.  I have 2 of these and one is on ...</td>\n",
              "      <td>5</td>\n",
              "      <td>good product for price</td>\n",
              "      <td>1405468800</td>\n",
              "      <td>07 16, 2014</td>\n",
              "    </tr>\n",
              "    <tr>\n",
              "      <th>270019</th>\n",
              "      <td>A283X4O3JWU7LP</td>\n",
              "      <td>B00B5BRIMG</td>\n",
              "      <td>shn006</td>\n",
              "      <td>[0, 0]</td>\n",
              "      <td>fast SSD and good price. However does not real...</td>\n",
              "      <td>3</td>\n",
              "      <td>Does not support encryption</td>\n",
              "      <td>1405900800</td>\n",
              "      <td>07 21, 2014</td>\n",
              "    </tr>\n",
              "    <tr>\n",
              "      <th>113873</th>\n",
              "      <td>A2LI3RBUEH7TXO</td>\n",
              "      <td>B0001MKU48</td>\n",
              "      <td>Doodle Meriwether</td>\n",
              "      <td>[1, 4]</td>\n",
              "      <td>These things are flimsy and they arrived warpe...</td>\n",
              "      <td>2</td>\n",
              "      <td>so much for purchasing based on reviews...</td>\n",
              "      <td>1327536000</td>\n",
              "      <td>01 26, 2012</td>\n",
              "    </tr>\n",
              "    <tr>\n",
              "      <th>334207</th>\n",
              "      <td>A2YEFJMLQTZZWE</td>\n",
              "      <td>B000O9GGLY</td>\n",
              "      <td>A. Westner</td>\n",
              "      <td>[0, 0]</td>\n",
              "      <td>Very good optics produce sharp images. I'm usi...</td>\n",
              "      <td>5</td>\n",
              "      <td>Good Quality Webcam</td>\n",
              "      <td>1359676800</td>\n",
              "      <td>02 1, 2013</td>\n",
              "    </tr>\n",
              "    <tr>\n",
              "      <th>209560</th>\n",
              "      <td>A2YKWYC3WQJX5J</td>\n",
              "      <td>B007Q8GOGI</td>\n",
              "      <td>Shannon Lastowski \"Queen of Caffeine\"</td>\n",
              "      <td>[0, 0]</td>\n",
              "      <td>So often, right before I first power up, I see...</td>\n",
              "      <td>5</td>\n",
              "      <td>I confess...</td>\n",
              "      <td>1354060800</td>\n",
              "      <td>11 28, 2012</td>\n",
              "    </tr>\n",
              "  </tbody>\n",
              "</table>\n",
              "</div>\n",
              "      <button class=\"colab-df-convert\" onclick=\"convertToInteractive('df-89da4817-66c1-4c08-a84b-44025bb6ad91')\"\n",
              "              title=\"Convert this dataframe to an interactive table.\"\n",
              "              style=\"display:none;\">\n",
              "        \n",
              "  <svg xmlns=\"http://www.w3.org/2000/svg\" height=\"24px\"viewBox=\"0 0 24 24\"\n",
              "       width=\"24px\">\n",
              "    <path d=\"M0 0h24v24H0V0z\" fill=\"none\"/>\n",
              "    <path d=\"M18.56 5.44l.94 2.06.94-2.06 2.06-.94-2.06-.94-.94-2.06-.94 2.06-2.06.94zm-11 1L8.5 8.5l.94-2.06 2.06-.94-2.06-.94L8.5 2.5l-.94 2.06-2.06.94zm10 10l.94 2.06.94-2.06 2.06-.94-2.06-.94-.94-2.06-.94 2.06-2.06.94z\"/><path d=\"M17.41 7.96l-1.37-1.37c-.4-.4-.92-.59-1.43-.59-.52 0-1.04.2-1.43.59L10.3 9.45l-7.72 7.72c-.78.78-.78 2.05 0 2.83L4 21.41c.39.39.9.59 1.41.59.51 0 1.02-.2 1.41-.59l7.78-7.78 2.81-2.81c.8-.78.8-2.07 0-2.86zM5.41 20L4 18.59l7.72-7.72 1.47 1.35L5.41 20z\"/>\n",
              "  </svg>\n",
              "      </button>\n",
              "      \n",
              "  <style>\n",
              "    .colab-df-container {\n",
              "      display:flex;\n",
              "      flex-wrap:wrap;\n",
              "      gap: 12px;\n",
              "    }\n",
              "\n",
              "    .colab-df-convert {\n",
              "      background-color: #E8F0FE;\n",
              "      border: none;\n",
              "      border-radius: 50%;\n",
              "      cursor: pointer;\n",
              "      display: none;\n",
              "      fill: #1967D2;\n",
              "      height: 32px;\n",
              "      padding: 0 0 0 0;\n",
              "      width: 32px;\n",
              "    }\n",
              "\n",
              "    .colab-df-convert:hover {\n",
              "      background-color: #E2EBFA;\n",
              "      box-shadow: 0px 1px 2px rgba(60, 64, 67, 0.3), 0px 1px 3px 1px rgba(60, 64, 67, 0.15);\n",
              "      fill: #174EA6;\n",
              "    }\n",
              "\n",
              "    [theme=dark] .colab-df-convert {\n",
              "      background-color: #3B4455;\n",
              "      fill: #D2E3FC;\n",
              "    }\n",
              "\n",
              "    [theme=dark] .colab-df-convert:hover {\n",
              "      background-color: #434B5C;\n",
              "      box-shadow: 0px 1px 3px 1px rgba(0, 0, 0, 0.15);\n",
              "      filter: drop-shadow(0px 1px 2px rgba(0, 0, 0, 0.3));\n",
              "      fill: #FFFFFF;\n",
              "    }\n",
              "  </style>\n",
              "\n",
              "      <script>\n",
              "        const buttonEl =\n",
              "          document.querySelector('#df-89da4817-66c1-4c08-a84b-44025bb6ad91 button.colab-df-convert');\n",
              "        buttonEl.style.display =\n",
              "          google.colab.kernel.accessAllowed ? 'block' : 'none';\n",
              "\n",
              "        async function convertToInteractive(key) {\n",
              "          const element = document.querySelector('#df-89da4817-66c1-4c08-a84b-44025bb6ad91');\n",
              "          const dataTable =\n",
              "            await google.colab.kernel.invokeFunction('convertToInteractive',\n",
              "                                                     [key], {});\n",
              "          if (!dataTable) return;\n",
              "\n",
              "          const docLinkHtml = 'Like what you see? Visit the ' +\n",
              "            '<a target=\"_blank\" href=https://colab.research.google.com/notebooks/data_table.ipynb>data table notebook</a>'\n",
              "            + ' to learn more about interactive tables.';\n",
              "          element.innerHTML = '';\n",
              "          dataTable['output_type'] = 'display_data';\n",
              "          await google.colab.output.renderOutput(dataTable, element);\n",
              "          const docLink = document.createElement('div');\n",
              "          docLink.innerHTML = docLinkHtml;\n",
              "          element.appendChild(docLink);\n",
              "        }\n",
              "      </script>\n",
              "    </div>\n",
              "  </div>\n",
              "  "
            ]
          },
          "metadata": {},
          "execution_count": 32
        }
      ]
    },
    {
      "cell_type": "markdown",
      "source": [
        "Sütunları incelediğimizde, yorum yapanların ID'si, isimleri, yorum yapma tarihlerinin işime yaramadığını görüyorum. Yorumların kendisi ve verilen puanlamalar üzerinden devam edeceğim"
      ],
      "metadata": {
        "id": "T128-HiKA_kb"
      }
    },
    {
      "cell_type": "code",
      "source": [
        "df.drop([\"reviewerID\",\"asin\",\"reviewerName\",\"helpful\",\"summary\",\"unixReviewTime\",\"reviewTime\"],axis=1,inplace=True)"
      ],
      "metadata": {
        "id": "a85axHxMA81S"
      },
      "execution_count": 33,
      "outputs": []
    },
    {
      "cell_type": "code",
      "source": [
        "df[\"overall\"]"
      ],
      "metadata": {
        "colab": {
          "base_uri": "https://localhost:8080/"
        },
        "id": "0YcQICpCAS4u",
        "outputId": "a808911b-3cd8-4d42-e4da-e41009158b8c"
      },
      "execution_count": 34,
      "outputs": [
        {
          "output_type": "execute_result",
          "data": {
            "text/plain": [
              "0         5\n",
              "1         5\n",
              "2         3\n",
              "3         2\n",
              "4         1\n",
              "         ..\n",
              "337833    5\n",
              "337834    5\n",
              "337835    4\n",
              "337836    5\n",
              "337837    5\n",
              "Name: overall, Length: 337838, dtype: int64"
            ]
          },
          "metadata": {},
          "execution_count": 34
        }
      ]
    },
    {
      "cell_type": "code",
      "source": [
        "df.overall.value_counts().plot.bar()"
      ],
      "metadata": {
        "colab": {
          "base_uri": "https://localhost:8080/",
          "height": 279
        },
        "id": "-3fqmcW4AVZc",
        "outputId": "c78defb8-e9d2-461f-f36f-3ab0df98bfc4"
      },
      "execution_count": 35,
      "outputs": [
        {
          "output_type": "execute_result",
          "data": {
            "text/plain": [
              "<matplotlib.axes._subplots.AxesSubplot at 0x7f448ca59730>"
            ]
          },
          "metadata": {},
          "execution_count": 35
        },
        {
          "output_type": "display_data",
          "data": {
            "text/plain": [
              "<Figure size 432x288 with 1 Axes>"
            ],
            "image/png": "[encoded data removed]"
          },
          "metadata": {
            "needs_background": "light"
          }
        }
      ]
    },
    {
      "cell_type": "code",
      "source": [
        "df.loc[df['overall']==3, 'sentimentoverall']= 'nötr'\n",
        "df.loc[df['overall']<3, 'sentimentoverall']= 'negatif'\n",
        "df.loc[df['overall']>3, 'sentimentoverall']= 'pozitif'\n",
        "df=df[[\"overall\", \"sentimentoverall\", \"reviewText\"]]\n",
        "df.head()"
      ],
      "metadata": {
        "colab": {
          "base_uri": "https://localhost:8080/",
          "height": 206
        },
        "id": "zdkOwMm7BYEF",
        "outputId": "c8615d55-8bc0-470b-ecdc-142b4e746fb7"
      },
      "execution_count": 36,
      "outputs": [
        {
          "output_type": "execute_result",
          "data": {
            "text/plain": [
              "   overall sentimentoverall                                         reviewText\n",
              "0        5          pozitif  I bought this cable thinking it was just a cab...\n",
              "1        5          pozitif  Funny thing is the guy I talked with about thi...\n",
              "2        3             nötr  UPDATE: 3/20/2014 -- Recent firmware seems to ...\n",
              "3        2          negatif  The snap on holster/backplate protector sold e...\n",
              "4        1          negatif  I purchased this charger for my Kindle Fire HD..."
            ],
            "text/html": [
              "\n",
              "  <div id=\"df-cf66b8c9-b733-4e16-b1e8-c21e8fec9efd\">\n",
              "    <div class=\"colab-df-container\">\n",
              "      <div>\n",
              "<style scoped>\n",
              "    .dataframe tbody tr th:only-of-type {\n",
              "        vertical-align: middle;\n",
              "    }\n",
              "\n",
              "    .dataframe tbody tr th {\n",
              "        vertical-align: top;\n",
              "    }\n",
              "\n",
              "    .dataframe thead th {\n",
              "        text-align: right;\n",
              "    }\n",
              "</style>\n",
              "<table border=\"1\" class=\"dataframe\">\n",
              "  <thead>\n",
              "    <tr style=\"text-align: right;\">\n",
              "      <th></th>\n",
              "      <th>overall</th>\n",
              "      <th>sentimentoverall</th>\n",
              "      <th>reviewText</th>\n",
              "    </tr>\n",
              "  </thead>\n",
              "  <tbody>\n",
              "    <tr>\n",
              "      <th>0</th>\n",
              "      <td>5</td>\n",
              "      <td>pozitif</td>\n",
              "      <td>I bought this cable thinking it was just a cab...</td>\n",
              "    </tr>\n",
              "    <tr>\n",
              "      <th>1</th>\n",
              "      <td>5</td>\n",
              "      <td>pozitif</td>\n",
              "      <td>Funny thing is the guy I talked with about thi...</td>\n",
              "    </tr>\n",
              "    <tr>\n",
              "      <th>2</th>\n",
              "      <td>3</td>\n",
              "      <td>nötr</td>\n",
              "      <td>UPDATE: 3/20/2014 -- Recent firmware seems to ...</td>\n",
              "    </tr>\n",
              "    <tr>\n",
              "      <th>3</th>\n",
              "      <td>2</td>\n",
              "      <td>negatif</td>\n",
              "      <td>The snap on holster/backplate protector sold e...</td>\n",
              "    </tr>\n",
              "    <tr>\n",
              "      <th>4</th>\n",
              "      <td>1</td>\n",
              "      <td>negatif</td>\n",
              "      <td>I purchased this charger for my Kindle Fire HD...</td>\n",
              "    </tr>\n",
              "  </tbody>\n",
              "</table>\n",
              "</div>\n",
              "      <button class=\"colab-df-convert\" onclick=\"convertToInteractive('df-cf66b8c9-b733-4e16-b1e8-c21e8fec9efd')\"\n",
              "              title=\"Convert this dataframe to an interactive table.\"\n",
              "              style=\"display:none;\">\n",
              "        \n",
              "  <svg xmlns=\"http://www.w3.org/2000/svg\" height=\"24px\"viewBox=\"0 0 24 24\"\n",
              "       width=\"24px\">\n",
              "    <path d=\"M0 0h24v24H0V0z\" fill=\"none\"/>\n",
              "    <path d=\"M18.56 5.44l.94 2.06.94-2.06 2.06-.94-2.06-.94-.94-2.06-.94 2.06-2.06.94zm-11 1L8.5 8.5l.94-2.06 2.06-.94-2.06-.94L8.5 2.5l-.94 2.06-2.06.94zm10 10l.94 2.06.94-2.06 2.06-.94-2.06-.94-.94-2.06-.94 2.06-2.06.94z\"/><path d=\"M17.41 7.96l-1.37-1.37c-.4-.4-.92-.59-1.43-.59-.52 0-1.04.2-1.43.59L10.3 9.45l-7.72 7.72c-.78.78-.78 2.05 0 2.83L4 21.41c.39.39.9.59 1.41.59.51 0 1.02-.2 1.41-.59l7.78-7.78 2.81-2.81c.8-.78.8-2.07 0-2.86zM5.41 20L4 18.59l7.72-7.72 1.47 1.35L5.41 20z\"/>\n",
              "  </svg>\n",
              "      </button>\n",
              "      \n",
              "  <style>\n",
              "    .colab-df-container {\n",
              "      display:flex;\n",
              "      flex-wrap:wrap;\n",
              "      gap: 12px;\n",
              "    }\n",
              "\n",
              "    .colab-df-convert {\n",
              "      background-color: #E8F0FE;\n",
              "      border: none;\n",
              "      border-radius: 50%;\n",
              "      cursor: pointer;\n",
              "      display: none;\n",
              "      fill: #1967D2;\n",
              "      height: 32px;\n",
              "      padding: 0 0 0 0;\n",
              "      width: 32px;\n",
              "    }\n",
              "\n",
              "    .colab-df-convert:hover {\n",
              "      background-color: #E2EBFA;\n",
              "      box-shadow: 0px 1px 2px rgba(60, 64, 67, 0.3), 0px 1px 3px 1px rgba(60, 64, 67, 0.15);\n",
              "      fill: #174EA6;\n",
              "    }\n",
              "\n",
              "    [theme=dark] .colab-df-convert {\n",
              "      background-color: #3B4455;\n",
              "      fill: #D2E3FC;\n",
              "    }\n",
              "\n",
              "    [theme=dark] .colab-df-convert:hover {\n",
              "      background-color: #434B5C;\n",
              "      box-shadow: 0px 1px 3px 1px rgba(0, 0, 0, 0.15);\n",
              "      filter: drop-shadow(0px 1px 2px rgba(0, 0, 0, 0.3));\n",
              "      fill: #FFFFFF;\n",
              "    }\n",
              "  </style>\n",
              "\n",
              "      <script>\n",
              "        const buttonEl =\n",
              "          document.querySelector('#df-cf66b8c9-b733-4e16-b1e8-c21e8fec9efd button.colab-df-convert');\n",
              "        buttonEl.style.display =\n",
              "          google.colab.kernel.accessAllowed ? 'block' : 'none';\n",
              "\n",
              "        async function convertToInteractive(key) {\n",
              "          const element = document.querySelector('#df-cf66b8c9-b733-4e16-b1e8-c21e8fec9efd');\n",
              "          const dataTable =\n",
              "            await google.colab.kernel.invokeFunction('convertToInteractive',\n",
              "                                                     [key], {});\n",
              "          if (!dataTable) return;\n",
              "\n",
              "          const docLinkHtml = 'Like what you see? Visit the ' +\n",
              "            '<a target=\"_blank\" href=https://colab.research.google.com/notebooks/data_table.ipynb>data table notebook</a>'\n",
              "            + ' to learn more about interactive tables.';\n",
              "          element.innerHTML = '';\n",
              "          dataTable['output_type'] = 'display_data';\n",
              "          await google.colab.output.renderOutput(dataTable, element);\n",
              "          const docLink = document.createElement('div');\n",
              "          docLink.innerHTML = docLinkHtml;\n",
              "          element.appendChild(docLink);\n",
              "        }\n",
              "      </script>\n",
              "    </div>\n",
              "  </div>\n",
              "  "
            ]
          },
          "metadata": {},
          "execution_count": 36
        }
      ]
    },
    {
      "cell_type": "code",
      "source": [
        "pie_sentiment=df.sentimentoverall.value_counts(normalize=True)\n",
        "plt.figure(figsize=(5,5), dpi=150),\n",
        "labels='Pozitif', 'Negatif', 'Nötr'\n",
        "colors=['purple', 'red', 'yellow']\n",
        "plt.pie(pie_sentiment,colors=colors,labels=labels,autopct='%1.1f%%')\n",
        "plt.axis('equal');"
      ],
      "metadata": {
        "colab": {
          "base_uri": "https://localhost:8080/",
          "height": 613
        },
        "id": "88Td_seUBjZA",
        "outputId": "0061dac2-c7a4-4def-d4f7-c825da26c11d"
      },
      "execution_count": 37,
      "outputs": [
        {
          "output_type": "display_data",
          "data": {
            "text/plain": [
              "<Figure size 750x750 with 1 Axes>"
            ],
            "image/png": "[encoded data removed]"
          },
          "metadata": {}
        }
      ]
    },
    {
      "cell_type": "markdown",
      "source": [
        "Genellikle pozitif yorumlar yapılmış."
      ],
      "metadata": {
        "id": "0II807MuB6sW"
      }
    },
    {
      "cell_type": "markdown",
      "source": [
        "yorumları düzenliyorum--->"
      ],
      "metadata": {
        "id": "T0A8bMGAB4_I"
      }
    },
    {
      "cell_type": "code",
      "source": [
        "df['reviewText']=df['reviewText'].str.lower()                 #bütün sütunu küçük harfe çevirir\n",
        "df['reviewText']=df['reviewText'].str.replace('[^\\w\\s]','')   #noktalama işaretlerini kaldırır\n",
        "df['reviewText']=df['reviewText'].str.replace('[\\d+]','')     #rakamları kaldırır\n",
        "df['reviewText']=df['reviewText'].str.replace('[\\n]','')      #yeni satırları kaldırır\n",
        "df['reviewText']=df['reviewText'].str.replace('[\\r]','')      #enter i kaldırır"
      ],
      "metadata": {
        "id": "MtsfitgfCEWf"
      },
      "execution_count": 38,
      "outputs": []
    },
    {
      "cell_type": "code",
      "source": [
        "df.sentimentoverall.value_counts()"
      ],
      "metadata": {
        "colab": {
          "base_uri": "https://localhost:8080/"
        },
        "id": "KUiaqpDaCOoo",
        "outputId": "2c783c9b-c58e-4324-e94a-ca0bbd84295b"
      },
      "execution_count": 39,
      "outputs": [
        {
          "output_type": "execute_result",
          "data": {
            "text/plain": [
              "pozitif    271549\n",
              "negatif     38001\n",
              "nötr        28288\n",
              "Name: sentimentoverall, dtype: int64"
            ]
          },
          "metadata": {},
          "execution_count": 39
        }
      ]
    },
    {
      "cell_type": "code",
      "source": [
        "df.sentimentoverall.value_counts(normalize=True)"
      ],
      "metadata": {
        "colab": {
          "base_uri": "https://localhost:8080/"
        },
        "id": "yJFXRTS3COxl",
        "outputId": "f063553b-65dd-4b27-c89e-d62b3f1cde53"
      },
      "execution_count": 40,
      "outputs": [
        {
          "output_type": "execute_result",
          "data": {
            "text/plain": [
              "pozitif    0.803785\n",
              "negatif    0.112483\n",
              "nötr       0.083732\n",
              "Name: sentimentoverall, dtype: float64"
            ]
          },
          "metadata": {},
          "execution_count": 40
        }
      ]
    },
    {
      "cell_type": "code",
      "source": [
        "df.sample(10)"
      ],
      "metadata": {
        "colab": {
          "base_uri": "https://localhost:8080/",
          "height": 363
        },
        "id": "GvK3VEoxDIZb",
        "outputId": "8e629760-c3d8-491d-c128-5cccc6202e19"
      },
      "execution_count": 41,
      "outputs": [
        {
          "output_type": "execute_result",
          "data": {
            "text/plain": [
              "        overall sentimentoverall  \\\n",
              "219230        5          pozitif   \n",
              "165359        5          pozitif   \n",
              "229372        5          pozitif   \n",
              "66178         5          pozitif   \n",
              "230104        2          negatif   \n",
              "194578        4          pozitif   \n",
              "248790        1          negatif   \n",
              "300302        5          pozitif   \n",
              "223685        5          pozitif   \n",
              "63164         2          negatif   \n",
              "\n",
              "                                               reviewText  \n",
              "219230  ive only had this in use for four days but it ...  \n",
              "165359  i debated for a long time about getting a tabl...  \n",
              "229372  i just like the way these hdmi cables look and...  \n",
              "66178   it is noticeably more responsive than the two ...  \n",
              "230104  sony slr inbody image stabilization that works...  \n",
              "194578  knockoff brick not hp  but it does the job and...  \n",
              "248790  swann has refused me warranty service  they ar...  \n",
              "300302  i got this at a better price than i could find...  \n",
              "223685  these are well built and sturdy yet flexible e...  \n",
              "63164   the sound quality is very very good my ultimat...  "
            ],
            "text/html": [
              "\n",
              "  <div id=\"df-0f41bd41-aca3-46d5-aa93-b2cea38e7fe3\">\n",
              "    <div class=\"colab-df-container\">\n",
              "      <div>\n",
              "<style scoped>\n",
              "    .dataframe tbody tr th:only-of-type {\n",
              "        vertical-align: middle;\n",
              "    }\n",
              "\n",
              "    .dataframe tbody tr th {\n",
              "        vertical-align: top;\n",
              "    }\n",
              "\n",
              "    .dataframe thead th {\n",
              "        text-align: right;\n",
              "    }\n",
              "</style>\n",
              "<table border=\"1\" class=\"dataframe\">\n",
              "  <thead>\n",
              "    <tr style=\"text-align: right;\">\n",
              "      <th></th>\n",
              "      <th>overall</th>\n",
              "      <th>sentimentoverall</th>\n",
              "      <th>reviewText</th>\n",
              "    </tr>\n",
              "  </thead>\n",
              "  <tbody>\n",
              "    <tr>\n",
              "      <th>219230</th>\n",
              "      <td>5</td>\n",
              "      <td>pozitif</td>\n",
              "      <td>ive only had this in use for four days but it ...</td>\n",
              "    </tr>\n",
              "    <tr>\n",
              "      <th>165359</th>\n",
              "      <td>5</td>\n",
              "      <td>pozitif</td>\n",
              "      <td>i debated for a long time about getting a tabl...</td>\n",
              "    </tr>\n",
              "    <tr>\n",
              "      <th>229372</th>\n",
              "      <td>5</td>\n",
              "      <td>pozitif</td>\n",
              "      <td>i just like the way these hdmi cables look and...</td>\n",
              "    </tr>\n",
              "    <tr>\n",
              "      <th>66178</th>\n",
              "      <td>5</td>\n",
              "      <td>pozitif</td>\n",
              "      <td>it is noticeably more responsive than the two ...</td>\n",
              "    </tr>\n",
              "    <tr>\n",
              "      <th>230104</th>\n",
              "      <td>2</td>\n",
              "      <td>negatif</td>\n",
              "      <td>sony slr inbody image stabilization that works...</td>\n",
              "    </tr>\n",
              "    <tr>\n",
              "      <th>194578</th>\n",
              "      <td>4</td>\n",
              "      <td>pozitif</td>\n",
              "      <td>knockoff brick not hp  but it does the job and...</td>\n",
              "    </tr>\n",
              "    <tr>\n",
              "      <th>248790</th>\n",
              "      <td>1</td>\n",
              "      <td>negatif</td>\n",
              "      <td>swann has refused me warranty service  they ar...</td>\n",
              "    </tr>\n",
              "    <tr>\n",
              "      <th>300302</th>\n",
              "      <td>5</td>\n",
              "      <td>pozitif</td>\n",
              "      <td>i got this at a better price than i could find...</td>\n",
              "    </tr>\n",
              "    <tr>\n",
              "      <th>223685</th>\n",
              "      <td>5</td>\n",
              "      <td>pozitif</td>\n",
              "      <td>these are well built and sturdy yet flexible e...</td>\n",
              "    </tr>\n",
              "    <tr>\n",
              "      <th>63164</th>\n",
              "      <td>2</td>\n",
              "      <td>negatif</td>\n",
              "      <td>the sound quality is very very good my ultimat...</td>\n",
              "    </tr>\n",
              "  </tbody>\n",
              "</table>\n",
              "</div>\n",
              "      <button class=\"colab-df-convert\" onclick=\"convertToInteractive('df-0f41bd41-aca3-46d5-aa93-b2cea38e7fe3')\"\n",
              "              title=\"Convert this dataframe to an interactive table.\"\n",
              "              style=\"display:none;\">\n",
              "        \n",
              "  <svg xmlns=\"http://www.w3.org/2000/svg\" height=\"24px\"viewBox=\"0 0 24 24\"\n",
              "       width=\"24px\">\n",
              "    <path d=\"M0 0h24v24H0V0z\" fill=\"none\"/>\n",
              "    <path d=\"M18.56 5.44l.94 2.06.94-2.06 2.06-.94-2.06-.94-.94-2.06-.94 2.06-2.06.94zm-11 1L8.5 8.5l.94-2.06 2.06-.94-2.06-.94L8.5 2.5l-.94 2.06-2.06.94zm10 10l.94 2.06.94-2.06 2.06-.94-2.06-.94-.94-2.06-.94 2.06-2.06.94z\"/><path d=\"M17.41 7.96l-1.37-1.37c-.4-.4-.92-.59-1.43-.59-.52 0-1.04.2-1.43.59L10.3 9.45l-7.72 7.72c-.78.78-.78 2.05 0 2.83L4 21.41c.39.39.9.59 1.41.59.51 0 1.02-.2 1.41-.59l7.78-7.78 2.81-2.81c.8-.78.8-2.07 0-2.86zM5.41 20L4 18.59l7.72-7.72 1.47 1.35L5.41 20z\"/>\n",
              "  </svg>\n",
              "      </button>\n",
              "      \n",
              "  <style>\n",
              "    .colab-df-container {\n",
              "      display:flex;\n",
              "      flex-wrap:wrap;\n",
              "      gap: 12px;\n",
              "    }\n",
              "\n",
              "    .colab-df-convert {\n",
              "      background-color: #E8F0FE;\n",
              "      border: none;\n",
              "      border-radius: 50%;\n",
              "      cursor: pointer;\n",
              "      display: none;\n",
              "      fill: #1967D2;\n",
              "      height: 32px;\n",
              "      padding: 0 0 0 0;\n",
              "      width: 32px;\n",
              "    }\n",
              "\n",
              "    .colab-df-convert:hover {\n",
              "      background-color: #E2EBFA;\n",
              "      box-shadow: 0px 1px 2px rgba(60, 64, 67, 0.3), 0px 1px 3px 1px rgba(60, 64, 67, 0.15);\n",
              "      fill: #174EA6;\n",
              "    }\n",
              "\n",
              "    [theme=dark] .colab-df-convert {\n",
              "      background-color: #3B4455;\n",
              "      fill: #D2E3FC;\n",
              "    }\n",
              "\n",
              "    [theme=dark] .colab-df-convert:hover {\n",
              "      background-color: #434B5C;\n",
              "      box-shadow: 0px 1px 3px 1px rgba(0, 0, 0, 0.15);\n",
              "      filter: drop-shadow(0px 1px 2px rgba(0, 0, 0, 0.3));\n",
              "      fill: #FFFFFF;\n",
              "    }\n",
              "  </style>\n",
              "\n",
              "      <script>\n",
              "        const buttonEl =\n",
              "          document.querySelector('#df-0f41bd41-aca3-46d5-aa93-b2cea38e7fe3 button.colab-df-convert');\n",
              "        buttonEl.style.display =\n",
              "          google.colab.kernel.accessAllowed ? 'block' : 'none';\n",
              "\n",
              "        async function convertToInteractive(key) {\n",
              "          const element = document.querySelector('#df-0f41bd41-aca3-46d5-aa93-b2cea38e7fe3');\n",
              "          const dataTable =\n",
              "            await google.colab.kernel.invokeFunction('convertToInteractive',\n",
              "                                                     [key], {});\n",
              "          if (!dataTable) return;\n",
              "\n",
              "          const docLinkHtml = 'Like what you see? Visit the ' +\n",
              "            '<a target=\"_blank\" href=https://colab.research.google.com/notebooks/data_table.ipynb>data table notebook</a>'\n",
              "            + ' to learn more about interactive tables.';\n",
              "          element.innerHTML = '';\n",
              "          dataTable['output_type'] = 'display_data';\n",
              "          await google.colab.output.renderOutput(dataTable, element);\n",
              "          const docLink = document.createElement('div');\n",
              "          docLink.innerHTML = docLinkHtml;\n",
              "          element.appendChild(docLink);\n",
              "        }\n",
              "      </script>\n",
              "    </div>\n",
              "  </div>\n",
              "  "
            ]
          },
          "metadata": {},
          "execution_count": 41
        }
      ]
    },
    {
      "cell_type": "code",
      "source": [
        "\n",
        "df[\"reviewText\"][0]\n"
      ],
      "metadata": {
        "colab": {
          "base_uri": "https://localhost:8080/",
          "height": 88
        },
        "id": "AefucfNsEZ1Q",
        "outputId": "46d8aad3-38a5-4560-90bc-8560edee6e3d"
      },
      "execution_count": 42,
      "outputs": [
        {
          "output_type": "execute_result",
          "data": {
            "text/plain": [
              "'i bought this cable thinking it was just a cable  i was surprised to get follow up in the mail from the company with an  number for any support i might need  was a nice surprise since customer support is so rare these days  the cable is well made and works perfectly  i would pay a little more and get this cable again  i would also buy other electronics from them since their customer support is so awesome  it shipped fast and all went smoothly  i strongly recommend this company and this cable'"
            ],
            "application/vnd.google.colaboratory.intrinsic+json": {
              "type": "string"
            }
          },
          "metadata": {},
          "execution_count": 42
        }
      ]
    },
    {
      "cell_type": "code",
      "source": [
        "df[\"sentimentoverall\"].value_counts().plot.bar()"
      ],
      "metadata": {
        "colab": {
          "base_uri": "https://localhost:8080/",
          "height": 308
        },
        "id": "zjy55V8AEgEL",
        "outputId": "0d4527c3-e0b7-415e-adae-54b9497baffe"
      },
      "execution_count": 43,
      "outputs": [
        {
          "output_type": "execute_result",
          "data": {
            "text/plain": [
              "<matplotlib.axes._subplots.AxesSubplot at 0x7f452ddde6d0>"
            ]
          },
          "metadata": {},
          "execution_count": 43
        },
        {
          "output_type": "display_data",
          "data": {
            "text/plain": [
              "<Figure size 432x288 with 1 Axes>"
            ],
            "image/png": "[encoded data removed]"
          },
          "metadata": {
            "needs_background": "light"
          }
        }
      ]
    },
    {
      "cell_type": "markdown",
      "source": [
        "Yorumlardaki boşlukları kaldıralım---->"
      ],
      "metadata": {
        "id": "3O6zhZqNFo7i"
      }
    },
    {
      "cell_type": "code",
      "source": [
        "df=df[df.reviewText.notna()]\n"
      ],
      "metadata": {
        "id": "GmsZDIseFnii"
      },
      "execution_count": 44,
      "outputs": []
    },
    {
      "cell_type": "markdown",
      "source": [
        "***Tokenize***"
      ],
      "metadata": {
        "id": "WQ3dCK2FF0ho"
      }
    },
    {
      "cell_type": "code",
      "source": [
        "tokenizer=TreebankWordTokenizer()\n",
        "df['tokenized']=[tokenizer.tokenize(str(i)) for i in df['reviewText'].values]"
      ],
      "metadata": {
        "id": "TaH5O8PzF2oG"
      },
      "execution_count": 45,
      "outputs": []
    },
    {
      "cell_type": "code",
      "source": [
        "df['reviewText']"
      ],
      "metadata": {
        "colab": {
          "base_uri": "https://localhost:8080/"
        },
        "id": "Ikc2VNDAGQZM",
        "outputId": "e3935ff3-14a7-4d5d-df14-6cf6c869bb8c"
      },
      "execution_count": 46,
      "outputs": [
        {
          "output_type": "execute_result",
          "data": {
            "text/plain": [
              "0         i bought this cable thinking it was just a cab...\n",
              "1         funny thing is the guy i talked with about thi...\n",
              "2         update   recent firmware seems to have fixed t...\n",
              "3         the snap on holsterbackplate protector sold el...\n",
              "4         i purchased this charger for my kindle fire hd...\n",
              "                                ...                        \n",
              "337833    i bought  of these switches to interconnect my...\n",
              "337834    i connected this to the displayport output on ...\n",
              "337835    replaces the outlet cover of a standard duplex...\n",
              "337836    it uses some sort of carbon powder to clean th...\n",
              "337837    i actually gave a way a mini but not micro  cd...\n",
              "Name: reviewText, Length: 337615, dtype: object"
            ]
          },
          "metadata": {},
          "execution_count": 46
        }
      ]
    },
    {
      "cell_type": "markdown",
      "source": [
        "***Stopwords***"
      ],
      "metadata": {
        "id": "hpfF6fyTIP54"
      }
    },
    {
      "cell_type": "code",
      "source": [
        "nltk.download('punkt')"
      ],
      "metadata": {
        "colab": {
          "base_uri": "https://localhost:8080/"
        },
        "id": "oiGHp82EJPpd",
        "outputId": "a1f2b856-7412-47ab-f978-703c9f53d78c"
      },
      "execution_count": 47,
      "outputs": [
        {
          "output_type": "stream",
          "name": "stderr",
          "text": [
            "[nltk_data] Downloading package punkt to /root/nltk_data...\n",
            "[nltk_data]   Package punkt is already up-to-date!\n"
          ]
        },
        {
          "output_type": "execute_result",
          "data": {
            "text/plain": [
              "True"
            ]
          },
          "metadata": {},
          "execution_count": 47
        }
      ]
    },
    {
      "cell_type": "code",
      "source": [
        "nltk.download(\"stopwords\")\n",
        "nltk.corpus.stopwords.words('english')"
      ],
      "metadata": {
        "colab": {
          "base_uri": "https://localhost:8080/"
        },
        "id": "PtXf0s-9HdgL",
        "outputId": "54562f8d-0a6f-40cc-9e11-708fb89eb1b8"
      },
      "execution_count": 48,
      "outputs": [
        {
          "output_type": "stream",
          "name": "stderr",
          "text": [
            "[nltk_data] Downloading package stopwords to /root/nltk_data...\n",
            "[nltk_data]   Package stopwords is already up-to-date!\n"
          ]
        },
        {
          "output_type": "execute_result",
          "data": {
            "text/plain": [
              "['i',\n",
              " 'me',\n",
              " 'my',\n",
              " 'myself',\n",
              " 'we',\n",
              " 'our',\n",
              " 'ours',\n",
              " 'ourselves',\n",
              " 'you',\n",
              " \"you're\",\n",
              " \"you've\",\n",
              " \"you'll\",\n",
              " \"you'd\",\n",
              " 'your',\n",
              " 'yours',\n",
              " 'yourself',\n",
              " 'yourselves',\n",
              " 'he',\n",
              " 'him',\n",
              " 'his',\n",
              " 'himself',\n",
              " 'she',\n",
              " \"she's\",\n",
              " 'her',\n",
              " 'hers',\n",
              " 'herself',\n",
              " 'it',\n",
              " \"it's\",\n",
              " 'its',\n",
              " 'itself',\n",
              " 'they',\n",
              " 'them',\n",
              " 'their',\n",
              " 'theirs',\n",
              " 'themselves',\n",
              " 'what',\n",
              " 'which',\n",
              " 'who',\n",
              " 'whom',\n",
              " 'this',\n",
              " 'that',\n",
              " \"that'll\",\n",
              " 'these',\n",
              " 'those',\n",
              " 'am',\n",
              " 'is',\n",
              " 'are',\n",
              " 'was',\n",
              " 'were',\n",
              " 'be',\n",
              " 'been',\n",
              " 'being',\n",
              " 'have',\n",
              " 'has',\n",
              " 'had',\n",
              " 'having',\n",
              " 'do',\n",
              " 'does',\n",
              " 'did',\n",
              " 'doing',\n",
              " 'a',\n",
              " 'an',\n",
              " 'the',\n",
              " 'and',\n",
              " 'but',\n",
              " 'if',\n",
              " 'or',\n",
              " 'because',\n",
              " 'as',\n",
              " 'until',\n",
              " 'while',\n",
              " 'of',\n",
              " 'at',\n",
              " 'by',\n",
              " 'for',\n",
              " 'with',\n",
              " 'about',\n",
              " 'against',\n",
              " 'between',\n",
              " 'into',\n",
              " 'through',\n",
              " 'during',\n",
              " 'before',\n",
              " 'after',\n",
              " 'above',\n",
              " 'below',\n",
              " 'to',\n",
              " 'from',\n",
              " 'up',\n",
              " 'down',\n",
              " 'in',\n",
              " 'out',\n",
              " 'on',\n",
              " 'off',\n",
              " 'over',\n",
              " 'under',\n",
              " 'again',\n",
              " 'further',\n",
              " 'then',\n",
              " 'once',\n",
              " 'here',\n",
              " 'there',\n",
              " 'when',\n",
              " 'where',\n",
              " 'why',\n",
              " 'how',\n",
              " 'all',\n",
              " 'any',\n",
              " 'both',\n",
              " 'each',\n",
              " 'few',\n",
              " 'more',\n",
              " 'most',\n",
              " 'other',\n",
              " 'some',\n",
              " 'such',\n",
              " 'no',\n",
              " 'nor',\n",
              " 'not',\n",
              " 'only',\n",
              " 'own',\n",
              " 'same',\n",
              " 'so',\n",
              " 'than',\n",
              " 'too',\n",
              " 'very',\n",
              " 's',\n",
              " 't',\n",
              " 'can',\n",
              " 'will',\n",
              " 'just',\n",
              " 'don',\n",
              " \"don't\",\n",
              " 'should',\n",
              " \"should've\",\n",
              " 'now',\n",
              " 'd',\n",
              " 'll',\n",
              " 'm',\n",
              " 'o',\n",
              " 're',\n",
              " 've',\n",
              " 'y',\n",
              " 'ain',\n",
              " 'aren',\n",
              " \"aren't\",\n",
              " 'couldn',\n",
              " \"couldn't\",\n",
              " 'didn',\n",
              " \"didn't\",\n",
              " 'doesn',\n",
              " \"doesn't\",\n",
              " 'hadn',\n",
              " \"hadn't\",\n",
              " 'hasn',\n",
              " \"hasn't\",\n",
              " 'haven',\n",
              " \"haven't\",\n",
              " 'isn',\n",
              " \"isn't\",\n",
              " 'ma',\n",
              " 'mightn',\n",
              " \"mightn't\",\n",
              " 'mustn',\n",
              " \"mustn't\",\n",
              " 'needn',\n",
              " \"needn't\",\n",
              " 'shan',\n",
              " \"shan't\",\n",
              " 'shouldn',\n",
              " \"shouldn't\",\n",
              " 'wasn',\n",
              " \"wasn't\",\n",
              " 'weren',\n",
              " \"weren't\",\n",
              " 'won',\n",
              " \"won't\",\n",
              " 'wouldn',\n",
              " \"wouldn't\"]"
            ]
          },
          "metadata": {},
          "execution_count": 48
        }
      ]
    },
    {
      "cell_type": "code",
      "source": [
        "#df['reviewText']=df['reviewText'].apply(lambda x: [word for word in x if word not in stopwords])"
      ],
      "metadata": {
        "id": "ot4nn-54H0YL"
      },
      "execution_count": 49,
      "outputs": []
    },
    {
      "cell_type": "code",
      "source": [
        "import nltk\n",
        "nltk.download(\"wordnet\")\n"
      ],
      "metadata": {
        "colab": {
          "base_uri": "https://localhost:8080/"
        },
        "id": "mFvUH1hvI9-w",
        "outputId": "89a8698d-f583-46bb-a7d7-fea9bf73611f"
      },
      "execution_count": 50,
      "outputs": [
        {
          "output_type": "stream",
          "name": "stderr",
          "text": [
            "[nltk_data] Downloading package wordnet to /root/nltk_data...\n",
            "[nltk_data]   Package wordnet is already up-to-date!\n"
          ]
        },
        {
          "output_type": "execute_result",
          "data": {
            "text/plain": [
              "True"
            ]
          },
          "metadata": {},
          "execution_count": 50
        }
      ]
    },
    {
      "cell_type": "code",
      "source": [
        "import nltk\n",
        "nltk.download('all')"
      ],
      "metadata": {
        "colab": {
          "base_uri": "https://localhost:8080/"
        },
        "id": "Q0oClN43KI8p",
        "outputId": "48cd79fe-4a99-4f0e-919f-0dde92e28311"
      },
      "execution_count": 51,
      "outputs": [
        {
          "output_type": "stream",
          "name": "stderr",
          "text": [
            "[nltk_data] Downloading collection 'all'\n",
            "[nltk_data]    | \n",
            "[nltk_data]    | Downloading package abc to /root/nltk_data...\n",
            "[nltk_data]    |   Package abc is already up-to-date!\n",
            "[nltk_data]    | Downloading package alpino to /root/nltk_data...\n",
            "[nltk_data]    |   Package alpino is already up-to-date!\n",
            "[nltk_data]    | Downloading package averaged_perceptron_tagger to\n",
            "[nltk_data]    |     /root/nltk_data...\n",
            "[nltk_data]    |   Package averaged_perceptron_tagger is already up-\n",
            "[nltk_data]    |       to-date!\n",
            "[nltk_data]    | Downloading package averaged_perceptron_tagger_ru to\n",
            "[nltk_data]    |     /root/nltk_data...\n",
            "[nltk_data]    |   Package averaged_perceptron_tagger_ru is already\n",
            "[nltk_data]    |       up-to-date!\n",
            "[nltk_data]    | Downloading package basque_grammars to\n",
            "[nltk_data]    |     /root/nltk_data...\n",
            "[nltk_data]    |   Package basque_grammars is already up-to-date!\n",
            "[nltk_data]    | Downloading package bcp47 to /root/nltk_data...\n",
            "[nltk_data]    |   Package bcp47 is already up-to-date!\n",
            "[nltk_data]    | Downloading package biocreative_ppi to\n",
            "[nltk_data]    |     /root/nltk_data...\n",
            "[nltk_data]    |   Package biocreative_ppi is already up-to-date!\n",
            "[nltk_data]    | Downloading package bllip_wsj_no_aux to\n",
            "[nltk_data]    |     /root/nltk_data...\n",
            "[nltk_data]    |   Package bllip_wsj_no_aux is already up-to-date!\n",
            "[nltk_data]    | Downloading package book_grammars to\n",
            "[nltk_data]    |     /root/nltk_data...\n",
            "[nltk_data]    |   Package book_grammars is already up-to-date!\n",
            "[nltk_data]    | Downloading package brown to /root/nltk_data...\n",
            "[nltk_data]    |   Package brown is already up-to-date!\n",
            "[nltk_data]    | Downloading package brown_tei to /root/nltk_data...\n",
            "[nltk_data]    |   Package brown_tei is already up-to-date!\n",
            "[nltk_data]    | Downloading package cess_cat to /root/nltk_data...\n",
            "[nltk_data]    |   Package cess_cat is already up-to-date!\n",
            "[nltk_data]    | Downloading package cess_esp to /root/nltk_data...\n",
            "[nltk_data]    |   Package cess_esp is already up-to-date!\n",
            "[nltk_data]    | Downloading package chat80 to /root/nltk_data...\n",
            "[nltk_data]    |   Package chat80 is already up-to-date!\n",
            "[nltk_data]    | Downloading package city_database to\n",
            "[nltk_data]    |     /root/nltk_data...\n",
            "[nltk_data]    |   Package city_database is already up-to-date!\n",
            "[nltk_data]    | Downloading package cmudict to /root/nltk_data...\n",
            "[nltk_data]    |   Package cmudict is already up-to-date!\n",
            "[nltk_data]    | Downloading package comparative_sentences to\n",
            "[nltk_data]    |     /root/nltk_data...\n",
            "[nltk_data]    |   Package comparative_sentences is already up-to-\n",
            "[nltk_data]    |       date!\n",
            "[nltk_data]    | Downloading package comtrans to /root/nltk_data...\n",
            "[nltk_data]    |   Package comtrans is already up-to-date!\n",
            "[nltk_data]    | Downloading package conll2000 to /root/nltk_data...\n",
            "[nltk_data]    |   Package conll2000 is already up-to-date!\n",
            "[nltk_data]    | Downloading package conll2002 to /root/nltk_data...\n",
            "[nltk_data]    |   Package conll2002 is already up-to-date!\n",
            "[nltk_data]    | Downloading package conll2007 to /root/nltk_data...\n",
            "[nltk_data]    |   Package conll2007 is already up-to-date!\n",
            "[nltk_data]    | Downloading package crubadan to /root/nltk_data...\n",
            "[nltk_data]    |   Package crubadan is already up-to-date!\n",
            "[nltk_data]    | Downloading package dependency_treebank to\n",
            "[nltk_data]    |     /root/nltk_data...\n",
            "[nltk_data]    |   Package dependency_treebank is already up-to-date!\n",
            "[nltk_data]    | Downloading package dolch to /root/nltk_data...\n",
            "[nltk_data]    |   Package dolch is already up-to-date!\n",
            "[nltk_data]    | Downloading package europarl_raw to\n",
            "[nltk_data]    |     /root/nltk_data...\n",
            "[nltk_data]    |   Package europarl_raw is already up-to-date!\n",
            "[nltk_data]    | Downloading package extended_omw to\n",
            "[nltk_data]    |     /root/nltk_data...\n",
            "[nltk_data]    |   Package extended_omw is already up-to-date!\n",
            "[nltk_data]    | Downloading package floresta to /root/nltk_data...\n",
            "[nltk_data]    |   Package floresta is already up-to-date!\n",
            "[nltk_data]    | Downloading package framenet_v15 to\n",
            "[nltk_data]    |     /root/nltk_data...\n",
            "[nltk_data]    |   Package framenet_v15 is already up-to-date!\n",
            "[nltk_data]    | Downloading package framenet_v17 to\n",
            "[nltk_data]    |     /root/nltk_data...\n",
            "[nltk_data]    |   Package framenet_v17 is already up-to-date!\n",
            "[nltk_data]    | Downloading package gazetteers to /root/nltk_data...\n",
            "[nltk_data]    |   Package gazetteers is already up-to-date!\n",
            "[nltk_data]    | Downloading package genesis to /root/nltk_data...\n",
            "[nltk_data]    |   Package genesis is already up-to-date!\n",
            "[nltk_data]    | Downloading package gutenberg to /root/nltk_data...\n",
            "[nltk_data]    |   Package gutenberg is already up-to-date!\n",
            "[nltk_data]    | Downloading package ieer to /root/nltk_data...\n",
            "[nltk_data]    |   Package ieer is already up-to-date!\n",
            "[nltk_data]    | Downloading package inaugural to /root/nltk_data...\n",
            "[nltk_data]    |   Package inaugural is already up-to-date!\n",
            "[nltk_data]    | Downloading package indian to /root/nltk_data...\n",
            "[nltk_data]    |   Package indian is already up-to-date!\n",
            "[nltk_data]    | Downloading package jeita to /root/nltk_data...\n",
            "[nltk_data]    |   Package jeita is already up-to-date!\n",
            "[nltk_data]    | Downloading package kimmo to /root/nltk_data...\n",
            "[nltk_data]    |   Package kimmo is already up-to-date!\n",
            "[nltk_data]    | Downloading package knbc to /root/nltk_data...\n",
            "[nltk_data]    |   Package knbc is already up-to-date!\n",
            "[nltk_data]    | Downloading package large_grammars to\n",
            "[nltk_data]    |     /root/nltk_data...\n",
            "[nltk_data]    |   Package large_grammars is already up-to-date!\n",
            "[nltk_data]    | Downloading package lin_thesaurus to\n",
            "[nltk_data]    |     /root/nltk_data...\n",
            "[nltk_data]    |   Package lin_thesaurus is already up-to-date!\n",
            "[nltk_data]    | Downloading package mac_morpho to /root/nltk_data...\n",
            "[nltk_data]    |   Package mac_morpho is already up-to-date!\n",
            "[nltk_data]    | Downloading package machado to /root/nltk_data...\n",
            "[nltk_data]    |   Package machado is already up-to-date!\n",
            "[nltk_data]    | Downloading package masc_tagged to /root/nltk_data...\n",
            "[nltk_data]    |   Package masc_tagged is already up-to-date!\n",
            "[nltk_data]    | Downloading package maxent_ne_chunker to\n",
            "[nltk_data]    |     /root/nltk_data...\n",
            "[nltk_data]    |   Package maxent_ne_chunker is already up-to-date!\n",
            "[nltk_data]    | Downloading package maxent_treebank_pos_tagger to\n",
            "[nltk_data]    |     /root/nltk_data...\n",
            "[nltk_data]    |   Package maxent_treebank_pos_tagger is already up-\n",
            "[nltk_data]    |       to-date!\n",
            "[nltk_data]    | Downloading package moses_sample to\n",
            "[nltk_data]    |     /root/nltk_data...\n",
            "[nltk_data]    |   Package moses_sample is already up-to-date!\n",
            "[nltk_data]    | Downloading package movie_reviews to\n",
            "[nltk_data]    |     /root/nltk_data...\n",
            "[nltk_data]    |   Package movie_reviews is already up-to-date!\n",
            "[nltk_data]    | Downloading package mte_teip5 to /root/nltk_data...\n",
            "[nltk_data]    |   Package mte_teip5 is already up-to-date!\n",
            "[nltk_data]    | Downloading package mwa_ppdb to /root/nltk_data...\n",
            "[nltk_data]    |   Package mwa_ppdb is already up-to-date!\n",
            "[nltk_data]    | Downloading package names to /root/nltk_data...\n",
            "[nltk_data]    |   Package names is already up-to-date!\n",
            "[nltk_data]    | Downloading package nombank.1.0 to /root/nltk_data...\n",
            "[nltk_data]    |   Package nombank.1.0 is already up-to-date!\n",
            "[nltk_data]    | Downloading package nonbreaking_prefixes to\n",
            "[nltk_data]    |     /root/nltk_data...\n",
            "[nltk_data]    |   Package nonbreaking_prefixes is already up-to-date!\n",
            "[nltk_data]    | Downloading package nps_chat to /root/nltk_data...\n",
            "[nltk_data]    |   Package nps_chat is already up-to-date!\n",
            "[nltk_data]    | Downloading package omw to /root/nltk_data...\n",
            "[nltk_data]    |   Package omw is already up-to-date!\n",
            "[nltk_data]    | Downloading package omw-1.4 to /root/nltk_data...\n",
            "[nltk_data]    |   Package omw-1.4 is already up-to-date!\n",
            "[nltk_data]    | Downloading package opinion_lexicon to\n",
            "[nltk_data]    |     /root/nltk_data...\n",
            "[nltk_data]    |   Package opinion_lexicon is already up-to-date!\n",
            "[nltk_data]    | Downloading package panlex_swadesh to\n",
            "[nltk_data]    |     /root/nltk_data...\n",
            "[nltk_data]    |   Package panlex_swadesh is already up-to-date!\n",
            "[nltk_data]    | Downloading package paradigms to /root/nltk_data...\n",
            "[nltk_data]    |   Package paradigms is already up-to-date!\n",
            "[nltk_data]    | Downloading package pe08 to /root/nltk_data...\n",
            "[nltk_data]    |   Package pe08 is already up-to-date!\n",
            "[nltk_data]    | Downloading package perluniprops to\n",
            "[nltk_data]    |     /root/nltk_data...\n",
            "[nltk_data]    |   Package perluniprops is already up-to-date!\n",
            "[nltk_data]    | Downloading package pil to /root/nltk_data...\n",
            "[nltk_data]    |   Package pil is already up-to-date!\n",
            "[nltk_data]    | Downloading package pl196x to /root/nltk_data...\n",
            "[nltk_data]    |   Package pl196x is already up-to-date!\n",
            "[nltk_data]    | Downloading package porter_test to /root/nltk_data...\n",
            "[nltk_data]    |   Package porter_test is already up-to-date!\n",
            "[nltk_data]    | Downloading package ppattach to /root/nltk_data...\n",
            "[nltk_data]    |   Package ppattach is already up-to-date!\n",
            "[nltk_data]    | Downloading package problem_reports to\n",
            "[nltk_data]    |     /root/nltk_data...\n",
            "[nltk_data]    |   Package problem_reports is already up-to-date!\n",
            "[nltk_data]    | Downloading package product_reviews_1 to\n",
            "[nltk_data]    |     /root/nltk_data...\n",
            "[nltk_data]    |   Package product_reviews_1 is already up-to-date!\n",
            "[nltk_data]    | Downloading package product_reviews_2 to\n",
            "[nltk_data]    |     /root/nltk_data...\n",
            "[nltk_data]    |   Package product_reviews_2 is already up-to-date!\n",
            "[nltk_data]    | Downloading package propbank to /root/nltk_data...\n",
            "[nltk_data]    |   Package propbank is already up-to-date!\n",
            "[nltk_data]    | Downloading package pros_cons to /root/nltk_data...\n",
            "[nltk_data]    |   Package pros_cons is already up-to-date!\n",
            "[nltk_data]    | Downloading package ptb to /root/nltk_data...\n",
            "[nltk_data]    |   Package ptb is already up-to-date!\n",
            "[nltk_data]    | Downloading package punkt to /root/nltk_data...\n",
            "[nltk_data]    |   Package punkt is already up-to-date!\n",
            "[nltk_data]    | Downloading package qc to /root/nltk_data...\n",
            "[nltk_data]    |   Package qc is already up-to-date!\n",
            "[nltk_data]    | Downloading package reuters to /root/nltk_data...\n",
            "[nltk_data]    |   Package reuters is already up-to-date!\n",
            "[nltk_data]    | Downloading package rslp to /root/nltk_data...\n",
            "[nltk_data]    |   Package rslp is already up-to-date!\n",
            "[nltk_data]    | Downloading package rte to /root/nltk_data...\n",
            "[nltk_data]    |   Package rte is already up-to-date!\n",
            "[nltk_data]    | Downloading package sample_grammars to\n",
            "[nltk_data]    |     /root/nltk_data...\n",
            "[nltk_data]    |   Package sample_grammars is already up-to-date!\n",
            "[nltk_data]    | Downloading package semcor to /root/nltk_data...\n",
            "[nltk_data]    |   Package semcor is already up-to-date!\n",
            "[nltk_data]    | Downloading package senseval to /root/nltk_data...\n",
            "[nltk_data]    |   Package senseval is already up-to-date!\n",
            "[nltk_data]    | Downloading package sentence_polarity to\n",
            "[nltk_data]    |     /root/nltk_data...\n",
            "[nltk_data]    |   Package sentence_polarity is already up-to-date!\n",
            "[nltk_data]    | Downloading package sentiwordnet to\n",
            "[nltk_data]    |     /root/nltk_data...\n",
            "[nltk_data]    |   Package sentiwordnet is already up-to-date!\n",
            "[nltk_data]    | Downloading package shakespeare to /root/nltk_data...\n",
            "[nltk_data]    |   Package shakespeare is already up-to-date!\n",
            "[nltk_data]    | Downloading package sinica_treebank to\n",
            "[nltk_data]    |     /root/nltk_data...\n",
            "[nltk_data]    |   Package sinica_treebank is already up-to-date!\n",
            "[nltk_data]    | Downloading package smultron to /root/nltk_data...\n",
            "[nltk_data]    |   Package smultron is already up-to-date!\n",
            "[nltk_data]    | Downloading package snowball_data to\n",
            "[nltk_data]    |     /root/nltk_data...\n",
            "[nltk_data]    |   Package snowball_data is already up-to-date!\n",
            "[nltk_data]    | Downloading package spanish_grammars to\n",
            "[nltk_data]    |     /root/nltk_data...\n",
            "[nltk_data]    |   Package spanish_grammars is already up-to-date!\n",
            "[nltk_data]    | Downloading package state_union to /root/nltk_data...\n",
            "[nltk_data]    |   Package state_union is already up-to-date!\n",
            "[nltk_data]    | Downloading package stopwords to /root/nltk_data...\n",
            "[nltk_data]    |   Package stopwords is already up-to-date!\n",
            "[nltk_data]    | Downloading package subjectivity to\n",
            "[nltk_data]    |     /root/nltk_data...\n",
            "[nltk_data]    |   Package subjectivity is already up-to-date!\n",
            "[nltk_data]    | Downloading package swadesh to /root/nltk_data...\n",
            "[nltk_data]    |   Package swadesh is already up-to-date!\n",
            "[nltk_data]    | Downloading package switchboard to /root/nltk_data...\n",
            "[nltk_data]    |   Package switchboard is already up-to-date!\n",
            "[nltk_data]    | Downloading package tagsets to /root/nltk_data...\n",
            "[nltk_data]    |   Package tagsets is already up-to-date!\n",
            "[nltk_data]    | Downloading package timit to /root/nltk_data...\n",
            "[nltk_data]    |   Package timit is already up-to-date!\n",
            "[nltk_data]    | Downloading package toolbox to /root/nltk_data...\n",
            "[nltk_data]    |   Package toolbox is already up-to-date!\n",
            "[nltk_data]    | Downloading package treebank to /root/nltk_data...\n",
            "[nltk_data]    |   Package treebank is already up-to-date!\n",
            "[nltk_data]    | Downloading package twitter_samples to\n",
            "[nltk_data]    |     /root/nltk_data...\n",
            "[nltk_data]    |   Package twitter_samples is already up-to-date!\n",
            "[nltk_data]    | Downloading package udhr to /root/nltk_data...\n",
            "[nltk_data]    |   Package udhr is already up-to-date!\n",
            "[nltk_data]    | Downloading package udhr2 to /root/nltk_data...\n",
            "[nltk_data]    |   Package udhr2 is already up-to-date!\n",
            "[nltk_data]    | Downloading package unicode_samples to\n",
            "[nltk_data]    |     /root/nltk_data...\n",
            "[nltk_data]    |   Package unicode_samples is already up-to-date!\n",
            "[nltk_data]    | Downloading package universal_tagset to\n",
            "[nltk_data]    |     /root/nltk_data...\n",
            "[nltk_data]    |   Package universal_tagset is already up-to-date!\n",
            "[nltk_data]    | Downloading package universal_treebanks_v20 to\n",
            "[nltk_data]    |     /root/nltk_data...\n",
            "[nltk_data]    |   Package universal_treebanks_v20 is already up-to-\n",
            "[nltk_data]    |       date!\n",
            "[nltk_data]    | Downloading package vader_lexicon to\n",
            "[nltk_data]    |     /root/nltk_data...\n",
            "[nltk_data]    |   Package vader_lexicon is already up-to-date!\n",
            "[nltk_data]    | Downloading package verbnet to /root/nltk_data...\n",
            "[nltk_data]    |   Package verbnet is already up-to-date!\n",
            "[nltk_data]    | Downloading package verbnet3 to /root/nltk_data...\n",
            "[nltk_data]    |   Package verbnet3 is already up-to-date!\n",
            "[nltk_data]    | Downloading package webtext to /root/nltk_data...\n",
            "[nltk_data]    |   Package webtext is already up-to-date!\n",
            "[nltk_data]    | Downloading package wmt15_eval to /root/nltk_data...\n",
            "[nltk_data]    |   Package wmt15_eval is already up-to-date!\n",
            "[nltk_data]    | Downloading package word2vec_sample to\n",
            "[nltk_data]    |     /root/nltk_data...\n",
            "[nltk_data]    |   Package word2vec_sample is already up-to-date!\n",
            "[nltk_data]    | Downloading package wordnet to /root/nltk_data...\n",
            "[nltk_data]    |   Package wordnet is already up-to-date!\n",
            "[nltk_data]    | Downloading package wordnet2021 to /root/nltk_data...\n",
            "[nltk_data]    |   Package wordnet2021 is already up-to-date!\n",
            "[nltk_data]    | Downloading package wordnet31 to /root/nltk_data...\n",
            "[nltk_data]    |   Package wordnet31 is already up-to-date!\n",
            "[nltk_data]    | Downloading package wordnet_ic to /root/nltk_data...\n",
            "[nltk_data]    |   Package wordnet_ic is already up-to-date!\n",
            "[nltk_data]    | Downloading package words to /root/nltk_data...\n",
            "[nltk_data]    |   Package words is already up-to-date!\n",
            "[nltk_data]    | Downloading package ycoe to /root/nltk_data...\n",
            "[nltk_data]    |   Package ycoe is already up-to-date!\n",
            "[nltk_data]    | \n",
            "[nltk_data]  Done downloading collection all\n"
          ]
        },
        {
          "output_type": "execute_result",
          "data": {
            "text/plain": [
              "True"
            ]
          },
          "metadata": {},
          "execution_count": 51
        }
      ]
    },
    {
      "cell_type": "code",
      "source": [
        "#from nltk.stem import WordNetLemmatizer\n",
        "#lemmatizer=WordNetLemmatizer()\n",
        "#df['lemmatize']=[[lemmatizer.lemmatize(i) for i in words] for words in df['reviewText'].values]"
      ],
      "metadata": {
        "id": "sQO0el4yJtJc"
      },
      "execution_count": 52,
      "outputs": []
    },
    {
      "cell_type": "markdown",
      "source": [
        "### Buradan sonrasında, ne kadar denesem de RAM çöküyor ve devam edemiyorum. Yine de her adımı yorum satırı olarak bırakıyorum---->"
      ],
      "metadata": {
        "id": "MgN_doLWT9vk"
      }
    },
    {
      "cell_type": "markdown",
      "source": [
        "Yorumlar için sentiment bakalım--->"
      ],
      "metadata": {
        "id": "oCCbamwkT_ti"
      }
    },
    {
      "cell_type": "code",
      "source": [
        "#from textblob import TextBlob\n",
        "#df[[\"polarity\",\"subjectivity\"]]=df[\"reviewText\"].apply(lambda t:pd.Series(TextBlob(t).sentiment))\n"
      ],
      "metadata": {
        "id": "2x8KfVM5JtQq"
      },
      "execution_count": 53,
      "outputs": []
    },
    {
      "cell_type": "code",
      "source": [
        "#df.loc[df['subjectivity']>0.5,'sentimentPolarity']=\"positive\" #positive\n",
        "#df.loc[df['subjectivity']==0.5,'sentimentPolarity']=\"neutral\" #neutral\n",
        "#df.loc[df['subjectivity']<0.5,'sentimentPolarity']=\"negative\" #negative\n",
        "#df.head()"
      ],
      "metadata": {
        "id": "Q4A2P03HJtWD"
      },
      "execution_count": 54,
      "outputs": []
    },
    {
      "cell_type": "markdown",
      "source": [
        "# Word Cloud"
      ],
      "metadata": {
        "id": "HXNVYYaliyuh"
      }
    },
    {
      "cell_type": "code",
      "source": [
        "pip install wordcloud\n"
      ],
      "metadata": {
        "id": "Lz0rqCVujrkc",
        "colab": {
          "base_uri": "https://localhost:8080/"
        },
        "outputId": "b6d7dc39-4006-43e0-8306-9b2a644ef6bd"
      },
      "execution_count": 55,
      "outputs": [
        {
          "output_type": "stream",
          "name": "stdout",
          "text": [
            "Looking in indexes: https://pypi.org/simple, https://us-python.pkg.dev/colab-wheels/public/simple/\n",
            "Requirement already satisfied: wordcloud in /usr/local/lib/python3.8/dist-packages (1.8.2.2)\n",
            "Requirement already satisfied: pillow in /usr/local/lib/python3.8/dist-packages (from wordcloud) (7.1.2)\n",
            "Requirement already satisfied: numpy>=1.6.1 in /usr/local/lib/python3.8/dist-packages (from wordcloud) (1.21.6)\n",
            "Requirement already satisfied: matplotlib in /usr/local/lib/python3.8/dist-packages (from wordcloud) (3.2.2)\n",
            "Requirement already satisfied: kiwisolver>=1.0.1 in /usr/local/lib/python3.8/dist-packages (from matplotlib->wordcloud) (1.4.4)\n",
            "Requirement already satisfied: python-dateutil>=2.1 in /usr/local/lib/python3.8/dist-packages (from matplotlib->wordcloud) (2.8.2)\n",
            "Requirement already satisfied: cycler>=0.10 in /usr/local/lib/python3.8/dist-packages (from matplotlib->wordcloud) (0.11.0)\n",
            "Requirement already satisfied: pyparsing!=2.0.4,!=2.1.2,!=2.1.6,>=2.0.1 in /usr/local/lib/python3.8/dist-packages (from matplotlib->wordcloud) (3.0.9)\n",
            "Requirement already satisfied: six>=1.5 in /usr/local/lib/python3.8/dist-packages (from python-dateutil>=2.1->matplotlib->wordcloud) (1.15.0)\n"
          ]
        }
      ]
    },
    {
      "cell_type": "code",
      "source": [
        "from wordcloud import WordCloud"
      ],
      "metadata": {
        "id": "raK8L2hVjr0I"
      },
      "execution_count": 56,
      "outputs": []
    },
    {
      "cell_type": "code",
      "source": [
        "def create_wordcloud(text):\n",
        "    mask = np.array(Image.open(\"images.jpg\"))\n",
        "    stopwords = set(STOPWORDS)\n",
        "    wc = WordCloud(background_color=\"white\",\n",
        "                  mask = mask,\n",
        "                  max_words=25000,\n",
        "                  stopwords=stopwords)\n",
        "    wc.generate(str(text))\n",
        "    wc.to_file(\"wc.png\")\n",
        "    print(\"Word Cloud Saved Successfully\")\n",
        "    path=\"wc.png\"\n",
        "    display(Image.open(path))\n"
      ],
      "metadata": {
        "id": "plOsLzImh5Cj"
      },
      "execution_count": 57,
      "outputs": []
    },
    {
      "cell_type": "code",
      "source": [
        "possitive_data_overall_sentiment=df[df[\"sentimentoverall\"]==\"positive\"][\"reviewText\"]\n",
        "negative_data_overall_sentiment=df[df[\"sentimentoverall\"]==\"negative\"][\"reviewText\"]\n",
        "neutral_data_overall_sentiment=df[df[\"sentimentoverall\"]==\"neutral\"][\"reviewText\"]"
      ],
      "metadata": {
        "id": "noiL5IK7rana"
      },
      "execution_count": 58,
      "outputs": []
    },
    {
      "cell_type": "code",
      "source": [
        "#wc(possitive_data_overall_sentiment,\"white\")\n",
        "#wc(negative_data_overall_sentiment,\"white\")\n",
        "#wc(neutral_data_overall_sentiment,\"white\")"
      ],
      "metadata": {
        "id": "1HIKUnIKh5eF"
      },
      "execution_count": 59,
      "outputs": []
    },
    {
      "cell_type": "markdown",
      "source": [
        "## **Classification**"
      ],
      "metadata": {
        "id": "w7Wzi7xxsAIx"
      }
    },
    {
      "cell_type": "code",
      "source": [
        "df.overall=df.overall.astype(\"category\")\n"
      ],
      "metadata": {
        "id": "1Ym8tzoMh5t8"
      },
      "execution_count": 60,
      "outputs": []
    },
    {
      "cell_type": "code",
      "source": [
        "x=df['reviewText']\n",
        "y=df['sentimentoverall']"
      ],
      "metadata": {
        "id": "j9_grtnur-7N"
      },
      "execution_count": 61,
      "outputs": []
    },
    {
      "cell_type": "code",
      "source": [
        "vect=CountVectorizer()"
      ],
      "metadata": {
        "id": "Exkj-phgr9_w"
      },
      "execution_count": 62,
      "outputs": []
    },
    {
      "cell_type": "code",
      "source": [
        "x=vect.fit_transform(x)"
      ],
      "metadata": {
        "id": "4xGmxvEKh53D"
      },
      "execution_count": 63,
      "outputs": []
    },
    {
      "cell_type": "code",
      "source": [
        "x_train, x_test, y_train, y_test=train_test_split(x,y,random_state=42, test_size=.20)"
      ],
      "metadata": {
        "id": "39roEoR3r_JM"
      },
      "execution_count": 64,
      "outputs": []
    },
    {
      "cell_type": "code",
      "source": [
        "x.shape, y.shape"
      ],
      "metadata": {
        "colab": {
          "base_uri": "https://localhost:8080/"
        },
        "id": "YzggmUBDr_D4",
        "outputId": "bb284ccd-17db-4a1c-a8e8-f34fa5ceb2d6"
      },
      "execution_count": 65,
      "outputs": [
        {
          "output_type": "execute_result",
          "data": {
            "text/plain": [
              "((337615, 417005), (337615,))"
            ]
          },
          "metadata": {},
          "execution_count": 65
        }
      ]
    },
    {
      "cell_type": "code",
      "source": [
        "print(x)"
      ],
      "metadata": {
        "colab": {
          "base_uri": "https://localhost:8080/"
        },
        "id": "S3KN0I1KtwV5",
        "outputId": "795cbf17-7a89-4fbb-f900-405a2e487779"
      },
      "execution_count": 66,
      "outputs": [
        {
          "output_type": "stream",
          "name": "stdout",
          "text": [
            "  (0, 40617)\t1\n",
            "  (0, 363737)\t4\n",
            "  (0, 47985)\t5\n",
            "  (0, 363478)\t1\n",
            "  (0, 182154)\t2\n",
            "  (0, 397583)\t3\n",
            "  (0, 187201)\t1\n",
            "  (0, 351457)\t1\n",
            "  (0, 368784)\t1\n",
            "  (0, 143909)\t2\n",
            "  (0, 134108)\t1\n",
            "  (0, 384211)\t1\n",
            "  (0, 171366)\t1\n",
            "  (0, 359672)\t3\n",
            "  (0, 208038)\t1\n",
            "  (0, 138146)\t2\n",
            "  (0, 67809)\t2\n",
            "  (0, 406512)\t1\n",
            "  (0, 12708)\t1\n",
            "  (0, 241159)\t1\n",
            "  (0, 134653)\t1\n",
            "  (0, 15211)\t1\n",
            "  (0, 350460)\t3\n",
            "  (0, 217327)\t1\n",
            "  (0, 231717)\t1\n",
            "  :\t:\n",
            "  (337614, 370106)\t1\n",
            "  (337614, 355098)\t1\n",
            "  (337614, 123815)\t1\n",
            "  (337614, 398574)\t1\n",
            "  (337614, 335808)\t2\n",
            "  (337614, 204308)\t1\n",
            "  (337614, 303210)\t1\n",
            "  (337614, 353407)\t2\n",
            "  (337614, 335254)\t1\n",
            "  (337614, 334894)\t1\n",
            "  (337614, 55698)\t2\n",
            "  (337614, 368964)\t1\n",
            "  (337614, 159722)\t1\n",
            "  (337614, 166946)\t1\n",
            "  (337614, 142444)\t2\n",
            "  (337614, 221210)\t1\n",
            "  (337614, 296327)\t1\n",
            "  (337614, 233822)\t1\n",
            "  (337614, 216250)\t1\n",
            "  (337614, 55938)\t1\n",
            "  (337614, 203263)\t1\n",
            "  (337614, 270006)\t1\n",
            "  (337614, 186804)\t1\n",
            "  (337614, 125473)\t1\n",
            "  (337614, 222734)\t1\n"
          ]
        }
      ]
    },
    {
      "cell_type": "code",
      "source": [
        "x_train"
      ],
      "metadata": {
        "colab": {
          "base_uri": "https://localhost:8080/"
        },
        "id": "dcpYFTLZr9gz",
        "outputId": "98ccd460-cf24-4a13-b733-f22a2c77c1ab"
      },
      "execution_count": 67,
      "outputs": [
        {
          "output_type": "execute_result",
          "data": {
            "text/plain": [
              "<270092x417005 sparse matrix of type '<class 'numpy.int64'>'\n",
              "\twith 18653420 stored elements in Compressed Sparse Row format>"
            ]
          },
          "metadata": {},
          "execution_count": 67
        }
      ]
    },
    {
      "cell_type": "code",
      "source": [
        "x_test"
      ],
      "metadata": {
        "colab": {
          "base_uri": "https://localhost:8080/"
        },
        "id": "dErFdmQ6r9qF",
        "outputId": "d6cb3ad5-c371-4e45-e6c2-1c7b4c6768be"
      },
      "execution_count": 68,
      "outputs": [
        {
          "output_type": "execute_result",
          "data": {
            "text/plain": [
              "<67523x417005 sparse matrix of type '<class 'numpy.int64'>'\n",
              "\twith 4646223 stored elements in Compressed Sparse Row format>"
            ]
          },
          "metadata": {},
          "execution_count": 68
        }
      ]
    },
    {
      "cell_type": "code",
      "source": [
        "y_train"
      ],
      "metadata": {
        "colab": {
          "base_uri": "https://localhost:8080/"
        },
        "id": "WJAC08Xcr91n",
        "outputId": "375229a8-81a9-4bbe-9382-df96e9c028ff"
      },
      "execution_count": 69,
      "outputs": [
        {
          "output_type": "execute_result",
          "data": {
            "text/plain": [
              "94439     pozitif\n",
              "123493    pozitif\n",
              "102583    pozitif\n",
              "277628    pozitif\n",
              "323850    pozitif\n",
              "           ...   \n",
              "119975    pozitif\n",
              "259359    negatif\n",
              "132036    pozitif\n",
              "146980    pozitif\n",
              "122055    negatif\n",
              "Name: sentimentoverall, Length: 270092, dtype: object"
            ]
          },
          "metadata": {},
          "execution_count": 69
        }
      ]
    },
    {
      "cell_type": "code",
      "source": [
        "y_test"
      ],
      "metadata": {
        "id": "3oX3H_28Jtb1",
        "colab": {
          "base_uri": "https://localhost:8080/"
        },
        "outputId": "1666ae46-5b85-45da-9689-2d9d3458238b"
      },
      "execution_count": 70,
      "outputs": [
        {
          "output_type": "execute_result",
          "data": {
            "text/plain": [
              "48232     pozitif\n",
              "269510       nötr\n",
              "140537       nötr\n",
              "238302    pozitif\n",
              "331301    pozitif\n",
              "           ...   \n",
              "171415    pozitif\n",
              "52490     pozitif\n",
              "16062     pozitif\n",
              "50976     pozitif\n",
              "308028    pozitif\n",
              "Name: sentimentoverall, Length: 67523, dtype: object"
            ]
          },
          "metadata": {},
          "execution_count": 70
        }
      ]
    },
    {
      "cell_type": "code",
      "source": [
        "l=LogisticRegression()"
      ],
      "metadata": {
        "id": "IOaooDFc2VCO"
      },
      "execution_count": 71,
      "outputs": []
    },
    {
      "cell_type": "code",
      "source": [
        "l.fit(x_train,y_train) "
      ],
      "metadata": {
        "colab": {
          "base_uri": "https://localhost:8080/"
        },
        "id": "WaM2nCT22VOj",
        "outputId": "fa913259-5f85-41fa-cc45-1a431f4780ad"
      },
      "execution_count": 72,
      "outputs": [
        {
          "output_type": "execute_result",
          "data": {
            "text/plain": [
              "LogisticRegression()"
            ]
          },
          "metadata": {},
          "execution_count": 72
        }
      ]
    },
    {
      "cell_type": "code",
      "source": [
        "pred=l.predict(x_test)"
      ],
      "metadata": {
        "id": "cYZSty_43qaP"
      },
      "execution_count": 73,
      "outputs": []
    },
    {
      "cell_type": "code",
      "source": [
        "accuracy_score(pred,y_test)  "
      ],
      "metadata": {
        "colab": {
          "base_uri": "https://localhost:8080/"
        },
        "id": "oEYp556M3ufW",
        "outputId": "0d8afb7a-ca49-4d53-b34f-981d9af07b27"
      },
      "execution_count": 74,
      "outputs": [
        {
          "output_type": "execute_result",
          "data": {
            "text/plain": [
              "0.8511173970350844"
            ]
          },
          "metadata": {},
          "execution_count": 74
        }
      ]
    },
    {
      "cell_type": "code",
      "source": [
        "m=MultinomialNB()"
      ],
      "metadata": {
        "id": "lo-TEBPu3xJR"
      },
      "execution_count": 75,
      "outputs": []
    },
    {
      "cell_type": "code",
      "source": [
        "pred2=m.fit(x_train,y_train).predict(x_test) "
      ],
      "metadata": {
        "id": "ySMPvEjD3yWi"
      },
      "execution_count": 76,
      "outputs": []
    },
    {
      "cell_type": "code",
      "source": [
        "accuracy_score(pred2,y_test)"
      ],
      "metadata": {
        "colab": {
          "base_uri": "https://localhost:8080/"
        },
        "id": "fvyd7itt324S",
        "outputId": "c93263b7-16b2-4079-b6d0-5eada7686b80"
      },
      "execution_count": 77,
      "outputs": [
        {
          "output_type": "execute_result",
          "data": {
            "text/plain": [
              "0.8295543740651333"
            ]
          },
          "metadata": {},
          "execution_count": 77
        }
      ]
    }
  ]
}